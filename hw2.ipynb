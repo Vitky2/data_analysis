{
  "nbformat": 4,
  "nbformat_minor": 0,
  "metadata": {
    "colab": {
      "provenance": [],
      "include_colab_link": true
    },
    "kernelspec": {
      "name": "python3",
      "display_name": "Python 3"
    },
    "language_info": {
      "name": "python"
    },
    "widgets": {
      "application/vnd.jupyter.widget-state+json": {
        "12bcdea05af54baf83c2deab6961e532": {
          "model_module": "@jupyter-widgets/controls",
          "model_name": "HBoxModel",
          "model_module_version": "1.5.0",
          "state": {
            "_dom_classes": [],
            "_model_module": "@jupyter-widgets/controls",
            "_model_module_version": "1.5.0",
            "_model_name": "HBoxModel",
            "_view_count": null,
            "_view_module": "@jupyter-widgets/controls",
            "_view_module_version": "1.5.0",
            "_view_name": "HBoxView",
            "box_style": "",
            "children": [
              "IPY_MODEL_95b3dace43a54a77bfeb5f5b97966600",
              "IPY_MODEL_3e8b52e953a14d618e9883bdaa217a00",
              "IPY_MODEL_d2ed0e7b4696475db9a1e9b064e2b4db"
            ],
            "layout": "IPY_MODEL_a35008edd010425da5a2b9d6b810743c"
          }
        },
        "95b3dace43a54a77bfeb5f5b97966600": {
          "model_module": "@jupyter-widgets/controls",
          "model_name": "HTMLModel",
          "model_module_version": "1.5.0",
          "state": {
            "_dom_classes": [],
            "_model_module": "@jupyter-widgets/controls",
            "_model_module_version": "1.5.0",
            "_model_name": "HTMLModel",
            "_view_count": null,
            "_view_module": "@jupyter-widgets/controls",
            "_view_module_version": "1.5.0",
            "_view_name": "HTMLView",
            "description": "",
            "description_tooltip": null,
            "layout": "IPY_MODEL_67595364d01748f7908d1bb4d2900333",
            "placeholder": "​",
            "style": "IPY_MODEL_75ba59c3500d449ea5d8f61211e5c9f0",
            "value": "Epoch 3: 100%"
          }
        },
        "3e8b52e953a14d618e9883bdaa217a00": {
          "model_module": "@jupyter-widgets/controls",
          "model_name": "FloatProgressModel",
          "model_module_version": "1.5.0",
          "state": {
            "_dom_classes": [],
            "_model_module": "@jupyter-widgets/controls",
            "_model_module_version": "1.5.0",
            "_model_name": "FloatProgressModel",
            "_view_count": null,
            "_view_module": "@jupyter-widgets/controls",
            "_view_module_version": "1.5.0",
            "_view_name": "ProgressView",
            "bar_style": "success",
            "description": "",
            "description_tooltip": null,
            "layout": "IPY_MODEL_60811447cff049cfa1c4ed23076da356",
            "max": 1415,
            "min": 0,
            "orientation": "horizontal",
            "style": "IPY_MODEL_b6ec692261414bc2bcf05cd8bd2b0e64",
            "value": 1415
          }
        },
        "d2ed0e7b4696475db9a1e9b064e2b4db": {
          "model_module": "@jupyter-widgets/controls",
          "model_name": "HTMLModel",
          "model_module_version": "1.5.0",
          "state": {
            "_dom_classes": [],
            "_model_module": "@jupyter-widgets/controls",
            "_model_module_version": "1.5.0",
            "_model_name": "HTMLModel",
            "_view_count": null,
            "_view_module": "@jupyter-widgets/controls",
            "_view_module_version": "1.5.0",
            "_view_name": "HTMLView",
            "description": "",
            "description_tooltip": null,
            "layout": "IPY_MODEL_215b9ebc7c224c478f07c01da7020dda",
            "placeholder": "​",
            "style": "IPY_MODEL_edf2926db96f413787c8b765766d22b7",
            "value": " 1415/1415 [00:43&lt;00:00, 32.19it/s, loss=0.00469]"
          }
        },
        "a35008edd010425da5a2b9d6b810743c": {
          "model_module": "@jupyter-widgets/base",
          "model_name": "LayoutModel",
          "model_module_version": "1.2.0",
          "state": {
            "_model_module": "@jupyter-widgets/base",
            "_model_module_version": "1.2.0",
            "_model_name": "LayoutModel",
            "_view_count": null,
            "_view_module": "@jupyter-widgets/base",
            "_view_module_version": "1.2.0",
            "_view_name": "LayoutView",
            "align_content": null,
            "align_items": null,
            "align_self": null,
            "border": null,
            "bottom": null,
            "display": "inline-flex",
            "flex": null,
            "flex_flow": "row wrap",
            "grid_area": null,
            "grid_auto_columns": null,
            "grid_auto_flow": null,
            "grid_auto_rows": null,
            "grid_column": null,
            "grid_gap": null,
            "grid_row": null,
            "grid_template_areas": null,
            "grid_template_columns": null,
            "grid_template_rows": null,
            "height": null,
            "justify_content": null,
            "justify_items": null,
            "left": null,
            "margin": null,
            "max_height": null,
            "max_width": null,
            "min_height": null,
            "min_width": null,
            "object_fit": null,
            "object_position": null,
            "order": null,
            "overflow": null,
            "overflow_x": null,
            "overflow_y": null,
            "padding": null,
            "right": null,
            "top": null,
            "visibility": null,
            "width": "100%"
          }
        },
        "67595364d01748f7908d1bb4d2900333": {
          "model_module": "@jupyter-widgets/base",
          "model_name": "LayoutModel",
          "model_module_version": "1.2.0",
          "state": {
            "_model_module": "@jupyter-widgets/base",
            "_model_module_version": "1.2.0",
            "_model_name": "LayoutModel",
            "_view_count": null,
            "_view_module": "@jupyter-widgets/base",
            "_view_module_version": "1.2.0",
            "_view_name": "LayoutView",
            "align_content": null,
            "align_items": null,
            "align_self": null,
            "border": null,
            "bottom": null,
            "display": null,
            "flex": null,
            "flex_flow": null,
            "grid_area": null,
            "grid_auto_columns": null,
            "grid_auto_flow": null,
            "grid_auto_rows": null,
            "grid_column": null,
            "grid_gap": null,
            "grid_row": null,
            "grid_template_areas": null,
            "grid_template_columns": null,
            "grid_template_rows": null,
            "height": null,
            "justify_content": null,
            "justify_items": null,
            "left": null,
            "margin": null,
            "max_height": null,
            "max_width": null,
            "min_height": null,
            "min_width": null,
            "object_fit": null,
            "object_position": null,
            "order": null,
            "overflow": null,
            "overflow_x": null,
            "overflow_y": null,
            "padding": null,
            "right": null,
            "top": null,
            "visibility": null,
            "width": null
          }
        },
        "75ba59c3500d449ea5d8f61211e5c9f0": {
          "model_module": "@jupyter-widgets/controls",
          "model_name": "DescriptionStyleModel",
          "model_module_version": "1.5.0",
          "state": {
            "_model_module": "@jupyter-widgets/controls",
            "_model_module_version": "1.5.0",
            "_model_name": "DescriptionStyleModel",
            "_view_count": null,
            "_view_module": "@jupyter-widgets/base",
            "_view_module_version": "1.2.0",
            "_view_name": "StyleView",
            "description_width": ""
          }
        },
        "60811447cff049cfa1c4ed23076da356": {
          "model_module": "@jupyter-widgets/base",
          "model_name": "LayoutModel",
          "model_module_version": "1.2.0",
          "state": {
            "_model_module": "@jupyter-widgets/base",
            "_model_module_version": "1.2.0",
            "_model_name": "LayoutModel",
            "_view_count": null,
            "_view_module": "@jupyter-widgets/base",
            "_view_module_version": "1.2.0",
            "_view_name": "LayoutView",
            "align_content": null,
            "align_items": null,
            "align_self": null,
            "border": null,
            "bottom": null,
            "display": null,
            "flex": "2",
            "flex_flow": null,
            "grid_area": null,
            "grid_auto_columns": null,
            "grid_auto_flow": null,
            "grid_auto_rows": null,
            "grid_column": null,
            "grid_gap": null,
            "grid_row": null,
            "grid_template_areas": null,
            "grid_template_columns": null,
            "grid_template_rows": null,
            "height": null,
            "justify_content": null,
            "justify_items": null,
            "left": null,
            "margin": null,
            "max_height": null,
            "max_width": null,
            "min_height": null,
            "min_width": null,
            "object_fit": null,
            "object_position": null,
            "order": null,
            "overflow": null,
            "overflow_x": null,
            "overflow_y": null,
            "padding": null,
            "right": null,
            "top": null,
            "visibility": null,
            "width": null
          }
        },
        "b6ec692261414bc2bcf05cd8bd2b0e64": {
          "model_module": "@jupyter-widgets/controls",
          "model_name": "ProgressStyleModel",
          "model_module_version": "1.5.0",
          "state": {
            "_model_module": "@jupyter-widgets/controls",
            "_model_module_version": "1.5.0",
            "_model_name": "ProgressStyleModel",
            "_view_count": null,
            "_view_module": "@jupyter-widgets/base",
            "_view_module_version": "1.2.0",
            "_view_name": "StyleView",
            "bar_color": null,
            "description_width": ""
          }
        },
        "215b9ebc7c224c478f07c01da7020dda": {
          "model_module": "@jupyter-widgets/base",
          "model_name": "LayoutModel",
          "model_module_version": "1.2.0",
          "state": {
            "_model_module": "@jupyter-widgets/base",
            "_model_module_version": "1.2.0",
            "_model_name": "LayoutModel",
            "_view_count": null,
            "_view_module": "@jupyter-widgets/base",
            "_view_module_version": "1.2.0",
            "_view_name": "LayoutView",
            "align_content": null,
            "align_items": null,
            "align_self": null,
            "border": null,
            "bottom": null,
            "display": null,
            "flex": null,
            "flex_flow": null,
            "grid_area": null,
            "grid_auto_columns": null,
            "grid_auto_flow": null,
            "grid_auto_rows": null,
            "grid_column": null,
            "grid_gap": null,
            "grid_row": null,
            "grid_template_areas": null,
            "grid_template_columns": null,
            "grid_template_rows": null,
            "height": null,
            "justify_content": null,
            "justify_items": null,
            "left": null,
            "margin": null,
            "max_height": null,
            "max_width": null,
            "min_height": null,
            "min_width": null,
            "object_fit": null,
            "object_position": null,
            "order": null,
            "overflow": null,
            "overflow_x": null,
            "overflow_y": null,
            "padding": null,
            "right": null,
            "top": null,
            "visibility": null,
            "width": null
          }
        },
        "edf2926db96f413787c8b765766d22b7": {
          "model_module": "@jupyter-widgets/controls",
          "model_name": "DescriptionStyleModel",
          "model_module_version": "1.5.0",
          "state": {
            "_model_module": "@jupyter-widgets/controls",
            "_model_module_version": "1.5.0",
            "_model_name": "DescriptionStyleModel",
            "_view_count": null,
            "_view_module": "@jupyter-widgets/base",
            "_view_module_version": "1.2.0",
            "_view_name": "StyleView",
            "description_width": ""
          }
        },
        "9504932cbe5c4dc6b22e3ef689a420c2": {
          "model_module": "@jupyter-widgets/controls",
          "model_name": "HBoxModel",
          "model_module_version": "1.5.0",
          "state": {
            "_dom_classes": [],
            "_model_module": "@jupyter-widgets/controls",
            "_model_module_version": "1.5.0",
            "_model_name": "HBoxModel",
            "_view_count": null,
            "_view_module": "@jupyter-widgets/controls",
            "_view_module_version": "1.5.0",
            "_view_name": "HBoxView",
            "box_style": "",
            "children": [
              "IPY_MODEL_20af49ad25e94ff4ba47156bc3d9aa3e",
              "IPY_MODEL_8e66338f706f44159b78968be0b4772f",
              "IPY_MODEL_134456fd36fd47658b349060b4c1c4d7"
            ],
            "layout": "IPY_MODEL_032604ccdd5b477b94c5ff47b7c86d8d"
          }
        },
        "20af49ad25e94ff4ba47156bc3d9aa3e": {
          "model_module": "@jupyter-widgets/controls",
          "model_name": "HTMLModel",
          "model_module_version": "1.5.0",
          "state": {
            "_dom_classes": [],
            "_model_module": "@jupyter-widgets/controls",
            "_model_module_version": "1.5.0",
            "_model_name": "HTMLModel",
            "_view_count": null,
            "_view_module": "@jupyter-widgets/controls",
            "_view_module_version": "1.5.0",
            "_view_name": "HTMLView",
            "description": "",
            "description_tooltip": null,
            "layout": "IPY_MODEL_bca4d7d2ffec46ee8489e9ad154cdaca",
            "placeholder": "​",
            "style": "IPY_MODEL_0aaf207950b544f381be948b8d8bf27a",
            "value": "Epoch 3: 100%"
          }
        },
        "8e66338f706f44159b78968be0b4772f": {
          "model_module": "@jupyter-widgets/controls",
          "model_name": "FloatProgressModel",
          "model_module_version": "1.5.0",
          "state": {
            "_dom_classes": [],
            "_model_module": "@jupyter-widgets/controls",
            "_model_module_version": "1.5.0",
            "_model_name": "FloatProgressModel",
            "_view_count": null,
            "_view_module": "@jupyter-widgets/controls",
            "_view_module_version": "1.5.0",
            "_view_name": "ProgressView",
            "bar_style": "success",
            "description": "",
            "description_tooltip": null,
            "layout": "IPY_MODEL_8bbb8ef6f46345f99f0c03844b9a6437",
            "max": 1415,
            "min": 0,
            "orientation": "horizontal",
            "style": "IPY_MODEL_5b2b8883394b4ceba4a13a1711b05c09",
            "value": 1415
          }
        },
        "134456fd36fd47658b349060b4c1c4d7": {
          "model_module": "@jupyter-widgets/controls",
          "model_name": "HTMLModel",
          "model_module_version": "1.5.0",
          "state": {
            "_dom_classes": [],
            "_model_module": "@jupyter-widgets/controls",
            "_model_module_version": "1.5.0",
            "_model_name": "HTMLModel",
            "_view_count": null,
            "_view_module": "@jupyter-widgets/controls",
            "_view_module_version": "1.5.0",
            "_view_name": "HTMLView",
            "description": "",
            "description_tooltip": null,
            "layout": "IPY_MODEL_3f7a81db0511428ba3f60da3179b2ed4",
            "placeholder": "​",
            "style": "IPY_MODEL_e778e6cf52f94b238f76596d15ce770a",
            "value": " 1415/1415 [00:42&lt;00:00, 33.49it/s, loss=0.00461]"
          }
        },
        "032604ccdd5b477b94c5ff47b7c86d8d": {
          "model_module": "@jupyter-widgets/base",
          "model_name": "LayoutModel",
          "model_module_version": "1.2.0",
          "state": {
            "_model_module": "@jupyter-widgets/base",
            "_model_module_version": "1.2.0",
            "_model_name": "LayoutModel",
            "_view_count": null,
            "_view_module": "@jupyter-widgets/base",
            "_view_module_version": "1.2.0",
            "_view_name": "LayoutView",
            "align_content": null,
            "align_items": null,
            "align_self": null,
            "border": null,
            "bottom": null,
            "display": "inline-flex",
            "flex": null,
            "flex_flow": "row wrap",
            "grid_area": null,
            "grid_auto_columns": null,
            "grid_auto_flow": null,
            "grid_auto_rows": null,
            "grid_column": null,
            "grid_gap": null,
            "grid_row": null,
            "grid_template_areas": null,
            "grid_template_columns": null,
            "grid_template_rows": null,
            "height": null,
            "justify_content": null,
            "justify_items": null,
            "left": null,
            "margin": null,
            "max_height": null,
            "max_width": null,
            "min_height": null,
            "min_width": null,
            "object_fit": null,
            "object_position": null,
            "order": null,
            "overflow": null,
            "overflow_x": null,
            "overflow_y": null,
            "padding": null,
            "right": null,
            "top": null,
            "visibility": null,
            "width": "100%"
          }
        },
        "bca4d7d2ffec46ee8489e9ad154cdaca": {
          "model_module": "@jupyter-widgets/base",
          "model_name": "LayoutModel",
          "model_module_version": "1.2.0",
          "state": {
            "_model_module": "@jupyter-widgets/base",
            "_model_module_version": "1.2.0",
            "_model_name": "LayoutModel",
            "_view_count": null,
            "_view_module": "@jupyter-widgets/base",
            "_view_module_version": "1.2.0",
            "_view_name": "LayoutView",
            "align_content": null,
            "align_items": null,
            "align_self": null,
            "border": null,
            "bottom": null,
            "display": null,
            "flex": null,
            "flex_flow": null,
            "grid_area": null,
            "grid_auto_columns": null,
            "grid_auto_flow": null,
            "grid_auto_rows": null,
            "grid_column": null,
            "grid_gap": null,
            "grid_row": null,
            "grid_template_areas": null,
            "grid_template_columns": null,
            "grid_template_rows": null,
            "height": null,
            "justify_content": null,
            "justify_items": null,
            "left": null,
            "margin": null,
            "max_height": null,
            "max_width": null,
            "min_height": null,
            "min_width": null,
            "object_fit": null,
            "object_position": null,
            "order": null,
            "overflow": null,
            "overflow_x": null,
            "overflow_y": null,
            "padding": null,
            "right": null,
            "top": null,
            "visibility": null,
            "width": null
          }
        },
        "0aaf207950b544f381be948b8d8bf27a": {
          "model_module": "@jupyter-widgets/controls",
          "model_name": "DescriptionStyleModel",
          "model_module_version": "1.5.0",
          "state": {
            "_model_module": "@jupyter-widgets/controls",
            "_model_module_version": "1.5.0",
            "_model_name": "DescriptionStyleModel",
            "_view_count": null,
            "_view_module": "@jupyter-widgets/base",
            "_view_module_version": "1.2.0",
            "_view_name": "StyleView",
            "description_width": ""
          }
        },
        "8bbb8ef6f46345f99f0c03844b9a6437": {
          "model_module": "@jupyter-widgets/base",
          "model_name": "LayoutModel",
          "model_module_version": "1.2.0",
          "state": {
            "_model_module": "@jupyter-widgets/base",
            "_model_module_version": "1.2.0",
            "_model_name": "LayoutModel",
            "_view_count": null,
            "_view_module": "@jupyter-widgets/base",
            "_view_module_version": "1.2.0",
            "_view_name": "LayoutView",
            "align_content": null,
            "align_items": null,
            "align_self": null,
            "border": null,
            "bottom": null,
            "display": null,
            "flex": "2",
            "flex_flow": null,
            "grid_area": null,
            "grid_auto_columns": null,
            "grid_auto_flow": null,
            "grid_auto_rows": null,
            "grid_column": null,
            "grid_gap": null,
            "grid_row": null,
            "grid_template_areas": null,
            "grid_template_columns": null,
            "grid_template_rows": null,
            "height": null,
            "justify_content": null,
            "justify_items": null,
            "left": null,
            "margin": null,
            "max_height": null,
            "max_width": null,
            "min_height": null,
            "min_width": null,
            "object_fit": null,
            "object_position": null,
            "order": null,
            "overflow": null,
            "overflow_x": null,
            "overflow_y": null,
            "padding": null,
            "right": null,
            "top": null,
            "visibility": null,
            "width": null
          }
        },
        "5b2b8883394b4ceba4a13a1711b05c09": {
          "model_module": "@jupyter-widgets/controls",
          "model_name": "ProgressStyleModel",
          "model_module_version": "1.5.0",
          "state": {
            "_model_module": "@jupyter-widgets/controls",
            "_model_module_version": "1.5.0",
            "_model_name": "ProgressStyleModel",
            "_view_count": null,
            "_view_module": "@jupyter-widgets/base",
            "_view_module_version": "1.2.0",
            "_view_name": "StyleView",
            "bar_color": null,
            "description_width": ""
          }
        },
        "3f7a81db0511428ba3f60da3179b2ed4": {
          "model_module": "@jupyter-widgets/base",
          "model_name": "LayoutModel",
          "model_module_version": "1.2.0",
          "state": {
            "_model_module": "@jupyter-widgets/base",
            "_model_module_version": "1.2.0",
            "_model_name": "LayoutModel",
            "_view_count": null,
            "_view_module": "@jupyter-widgets/base",
            "_view_module_version": "1.2.0",
            "_view_name": "LayoutView",
            "align_content": null,
            "align_items": null,
            "align_self": null,
            "border": null,
            "bottom": null,
            "display": null,
            "flex": null,
            "flex_flow": null,
            "grid_area": null,
            "grid_auto_columns": null,
            "grid_auto_flow": null,
            "grid_auto_rows": null,
            "grid_column": null,
            "grid_gap": null,
            "grid_row": null,
            "grid_template_areas": null,
            "grid_template_columns": null,
            "grid_template_rows": null,
            "height": null,
            "justify_content": null,
            "justify_items": null,
            "left": null,
            "margin": null,
            "max_height": null,
            "max_width": null,
            "min_height": null,
            "min_width": null,
            "object_fit": null,
            "object_position": null,
            "order": null,
            "overflow": null,
            "overflow_x": null,
            "overflow_y": null,
            "padding": null,
            "right": null,
            "top": null,
            "visibility": null,
            "width": null
          }
        },
        "e778e6cf52f94b238f76596d15ce770a": {
          "model_module": "@jupyter-widgets/controls",
          "model_name": "DescriptionStyleModel",
          "model_module_version": "1.5.0",
          "state": {
            "_model_module": "@jupyter-widgets/controls",
            "_model_module_version": "1.5.0",
            "_model_name": "DescriptionStyleModel",
            "_view_count": null,
            "_view_module": "@jupyter-widgets/base",
            "_view_module_version": "1.2.0",
            "_view_name": "StyleView",
            "description_width": ""
          }
        },
        "e66d913dba6e4347a664a33e613f4cc9": {
          "model_module": "@jupyter-widgets/controls",
          "model_name": "HBoxModel",
          "model_module_version": "1.5.0",
          "state": {
            "_dom_classes": [],
            "_model_module": "@jupyter-widgets/controls",
            "_model_module_version": "1.5.0",
            "_model_name": "HBoxModel",
            "_view_count": null,
            "_view_module": "@jupyter-widgets/controls",
            "_view_module_version": "1.5.0",
            "_view_name": "HBoxView",
            "box_style": "",
            "children": [
              "IPY_MODEL_d90cc41358dc4f97bfbf483c18feb6a3",
              "IPY_MODEL_d4ac656767da4ca9b5708bdbc4f497af",
              "IPY_MODEL_f02ee9d15bd344a780fa4e150a43c120"
            ],
            "layout": "IPY_MODEL_4b73f55afd25436f9777e6fad80333fa"
          }
        },
        "d90cc41358dc4f97bfbf483c18feb6a3": {
          "model_module": "@jupyter-widgets/controls",
          "model_name": "HTMLModel",
          "model_module_version": "1.5.0",
          "state": {
            "_dom_classes": [],
            "_model_module": "@jupyter-widgets/controls",
            "_model_module_version": "1.5.0",
            "_model_name": "HTMLModel",
            "_view_count": null,
            "_view_module": "@jupyter-widgets/controls",
            "_view_module_version": "1.5.0",
            "_view_name": "HTMLView",
            "description": "",
            "description_tooltip": null,
            "layout": "IPY_MODEL_b75ce1b47f8a47d89e4b1adf0a2b77e4",
            "placeholder": "​",
            "style": "IPY_MODEL_1f7fa4436d95487f94fd1438c818cde2",
            "value": "Epoch 3: 100%"
          }
        },
        "d4ac656767da4ca9b5708bdbc4f497af": {
          "model_module": "@jupyter-widgets/controls",
          "model_name": "FloatProgressModel",
          "model_module_version": "1.5.0",
          "state": {
            "_dom_classes": [],
            "_model_module": "@jupyter-widgets/controls",
            "_model_module_version": "1.5.0",
            "_model_name": "FloatProgressModel",
            "_view_count": null,
            "_view_module": "@jupyter-widgets/controls",
            "_view_module_version": "1.5.0",
            "_view_name": "ProgressView",
            "bar_style": "success",
            "description": "",
            "description_tooltip": null,
            "layout": "IPY_MODEL_15d70855b8a74a298fa123f38ef10022",
            "max": 1415,
            "min": 0,
            "orientation": "horizontal",
            "style": "IPY_MODEL_417ab619d5664ec2a4da59878c654883",
            "value": 1415
          }
        },
        "f02ee9d15bd344a780fa4e150a43c120": {
          "model_module": "@jupyter-widgets/controls",
          "model_name": "HTMLModel",
          "model_module_version": "1.5.0",
          "state": {
            "_dom_classes": [],
            "_model_module": "@jupyter-widgets/controls",
            "_model_module_version": "1.5.0",
            "_model_name": "HTMLModel",
            "_view_count": null,
            "_view_module": "@jupyter-widgets/controls",
            "_view_module_version": "1.5.0",
            "_view_name": "HTMLView",
            "description": "",
            "description_tooltip": null,
            "layout": "IPY_MODEL_17a94b589deb401dbea9ed8049e2ced7",
            "placeholder": "​",
            "style": "IPY_MODEL_853682555a1f4abf9d1a0c81d469846d",
            "value": " 1415/1415 [00:45&lt;00:00, 30.83it/s, loss=0.00462]"
          }
        },
        "4b73f55afd25436f9777e6fad80333fa": {
          "model_module": "@jupyter-widgets/base",
          "model_name": "LayoutModel",
          "model_module_version": "1.2.0",
          "state": {
            "_model_module": "@jupyter-widgets/base",
            "_model_module_version": "1.2.0",
            "_model_name": "LayoutModel",
            "_view_count": null,
            "_view_module": "@jupyter-widgets/base",
            "_view_module_version": "1.2.0",
            "_view_name": "LayoutView",
            "align_content": null,
            "align_items": null,
            "align_self": null,
            "border": null,
            "bottom": null,
            "display": "inline-flex",
            "flex": null,
            "flex_flow": "row wrap",
            "grid_area": null,
            "grid_auto_columns": null,
            "grid_auto_flow": null,
            "grid_auto_rows": null,
            "grid_column": null,
            "grid_gap": null,
            "grid_row": null,
            "grid_template_areas": null,
            "grid_template_columns": null,
            "grid_template_rows": null,
            "height": null,
            "justify_content": null,
            "justify_items": null,
            "left": null,
            "margin": null,
            "max_height": null,
            "max_width": null,
            "min_height": null,
            "min_width": null,
            "object_fit": null,
            "object_position": null,
            "order": null,
            "overflow": null,
            "overflow_x": null,
            "overflow_y": null,
            "padding": null,
            "right": null,
            "top": null,
            "visibility": null,
            "width": "100%"
          }
        },
        "b75ce1b47f8a47d89e4b1adf0a2b77e4": {
          "model_module": "@jupyter-widgets/base",
          "model_name": "LayoutModel",
          "model_module_version": "1.2.0",
          "state": {
            "_model_module": "@jupyter-widgets/base",
            "_model_module_version": "1.2.0",
            "_model_name": "LayoutModel",
            "_view_count": null,
            "_view_module": "@jupyter-widgets/base",
            "_view_module_version": "1.2.0",
            "_view_name": "LayoutView",
            "align_content": null,
            "align_items": null,
            "align_self": null,
            "border": null,
            "bottom": null,
            "display": null,
            "flex": null,
            "flex_flow": null,
            "grid_area": null,
            "grid_auto_columns": null,
            "grid_auto_flow": null,
            "grid_auto_rows": null,
            "grid_column": null,
            "grid_gap": null,
            "grid_row": null,
            "grid_template_areas": null,
            "grid_template_columns": null,
            "grid_template_rows": null,
            "height": null,
            "justify_content": null,
            "justify_items": null,
            "left": null,
            "margin": null,
            "max_height": null,
            "max_width": null,
            "min_height": null,
            "min_width": null,
            "object_fit": null,
            "object_position": null,
            "order": null,
            "overflow": null,
            "overflow_x": null,
            "overflow_y": null,
            "padding": null,
            "right": null,
            "top": null,
            "visibility": null,
            "width": null
          }
        },
        "1f7fa4436d95487f94fd1438c818cde2": {
          "model_module": "@jupyter-widgets/controls",
          "model_name": "DescriptionStyleModel",
          "model_module_version": "1.5.0",
          "state": {
            "_model_module": "@jupyter-widgets/controls",
            "_model_module_version": "1.5.0",
            "_model_name": "DescriptionStyleModel",
            "_view_count": null,
            "_view_module": "@jupyter-widgets/base",
            "_view_module_version": "1.2.0",
            "_view_name": "StyleView",
            "description_width": ""
          }
        },
        "15d70855b8a74a298fa123f38ef10022": {
          "model_module": "@jupyter-widgets/base",
          "model_name": "LayoutModel",
          "model_module_version": "1.2.0",
          "state": {
            "_model_module": "@jupyter-widgets/base",
            "_model_module_version": "1.2.0",
            "_model_name": "LayoutModel",
            "_view_count": null,
            "_view_module": "@jupyter-widgets/base",
            "_view_module_version": "1.2.0",
            "_view_name": "LayoutView",
            "align_content": null,
            "align_items": null,
            "align_self": null,
            "border": null,
            "bottom": null,
            "display": null,
            "flex": "2",
            "flex_flow": null,
            "grid_area": null,
            "grid_auto_columns": null,
            "grid_auto_flow": null,
            "grid_auto_rows": null,
            "grid_column": null,
            "grid_gap": null,
            "grid_row": null,
            "grid_template_areas": null,
            "grid_template_columns": null,
            "grid_template_rows": null,
            "height": null,
            "justify_content": null,
            "justify_items": null,
            "left": null,
            "margin": null,
            "max_height": null,
            "max_width": null,
            "min_height": null,
            "min_width": null,
            "object_fit": null,
            "object_position": null,
            "order": null,
            "overflow": null,
            "overflow_x": null,
            "overflow_y": null,
            "padding": null,
            "right": null,
            "top": null,
            "visibility": null,
            "width": null
          }
        },
        "417ab619d5664ec2a4da59878c654883": {
          "model_module": "@jupyter-widgets/controls",
          "model_name": "ProgressStyleModel",
          "model_module_version": "1.5.0",
          "state": {
            "_model_module": "@jupyter-widgets/controls",
            "_model_module_version": "1.5.0",
            "_model_name": "ProgressStyleModel",
            "_view_count": null,
            "_view_module": "@jupyter-widgets/base",
            "_view_module_version": "1.2.0",
            "_view_name": "StyleView",
            "bar_color": null,
            "description_width": ""
          }
        },
        "17a94b589deb401dbea9ed8049e2ced7": {
          "model_module": "@jupyter-widgets/base",
          "model_name": "LayoutModel",
          "model_module_version": "1.2.0",
          "state": {
            "_model_module": "@jupyter-widgets/base",
            "_model_module_version": "1.2.0",
            "_model_name": "LayoutModel",
            "_view_count": null,
            "_view_module": "@jupyter-widgets/base",
            "_view_module_version": "1.2.0",
            "_view_name": "LayoutView",
            "align_content": null,
            "align_items": null,
            "align_self": null,
            "border": null,
            "bottom": null,
            "display": null,
            "flex": null,
            "flex_flow": null,
            "grid_area": null,
            "grid_auto_columns": null,
            "grid_auto_flow": null,
            "grid_auto_rows": null,
            "grid_column": null,
            "grid_gap": null,
            "grid_row": null,
            "grid_template_areas": null,
            "grid_template_columns": null,
            "grid_template_rows": null,
            "height": null,
            "justify_content": null,
            "justify_items": null,
            "left": null,
            "margin": null,
            "max_height": null,
            "max_width": null,
            "min_height": null,
            "min_width": null,
            "object_fit": null,
            "object_position": null,
            "order": null,
            "overflow": null,
            "overflow_x": null,
            "overflow_y": null,
            "padding": null,
            "right": null,
            "top": null,
            "visibility": null,
            "width": null
          }
        },
        "853682555a1f4abf9d1a0c81d469846d": {
          "model_module": "@jupyter-widgets/controls",
          "model_name": "DescriptionStyleModel",
          "model_module_version": "1.5.0",
          "state": {
            "_model_module": "@jupyter-widgets/controls",
            "_model_module_version": "1.5.0",
            "_model_name": "DescriptionStyleModel",
            "_view_count": null,
            "_view_module": "@jupyter-widgets/base",
            "_view_module_version": "1.2.0",
            "_view_name": "StyleView",
            "description_width": ""
          }
        },
        "ad04ba4972144ffb8bd49de30f159cbf": {
          "model_module": "@jupyter-widgets/controls",
          "model_name": "HBoxModel",
          "model_module_version": "1.5.0",
          "state": {
            "_dom_classes": [],
            "_model_module": "@jupyter-widgets/controls",
            "_model_module_version": "1.5.0",
            "_model_name": "HBoxModel",
            "_view_count": null,
            "_view_module": "@jupyter-widgets/controls",
            "_view_module_version": "1.5.0",
            "_view_name": "HBoxView",
            "box_style": "",
            "children": [
              "IPY_MODEL_6f7b0b3c7b1d4af6a4a201628d27452d",
              "IPY_MODEL_89727a568d5d41b28c482a90f7cd795d",
              "IPY_MODEL_020f804b9b2a47c88e85ff42871c6243"
            ],
            "layout": "IPY_MODEL_0e1b67a321044eb492e6540bf189c88f"
          }
        },
        "6f7b0b3c7b1d4af6a4a201628d27452d": {
          "model_module": "@jupyter-widgets/controls",
          "model_name": "HTMLModel",
          "model_module_version": "1.5.0",
          "state": {
            "_dom_classes": [],
            "_model_module": "@jupyter-widgets/controls",
            "_model_module_version": "1.5.0",
            "_model_name": "HTMLModel",
            "_view_count": null,
            "_view_module": "@jupyter-widgets/controls",
            "_view_module_version": "1.5.0",
            "_view_name": "HTMLView",
            "description": "",
            "description_tooltip": null,
            "layout": "IPY_MODEL_c92ba83f6f1c498fa20b3a47ec2fa732",
            "placeholder": "​",
            "style": "IPY_MODEL_2efb261f570040df9697e6b860bc98bd",
            "value": "Epoch 3: 100%"
          }
        },
        "89727a568d5d41b28c482a90f7cd795d": {
          "model_module": "@jupyter-widgets/controls",
          "model_name": "FloatProgressModel",
          "model_module_version": "1.5.0",
          "state": {
            "_dom_classes": [],
            "_model_module": "@jupyter-widgets/controls",
            "_model_module_version": "1.5.0",
            "_model_name": "FloatProgressModel",
            "_view_count": null,
            "_view_module": "@jupyter-widgets/controls",
            "_view_module_version": "1.5.0",
            "_view_name": "ProgressView",
            "bar_style": "success",
            "description": "",
            "description_tooltip": null,
            "layout": "IPY_MODEL_2ef077fc16f44313a17ecc578d2c09fb",
            "max": 353,
            "min": 0,
            "orientation": "horizontal",
            "style": "IPY_MODEL_b354ece6e2a24bdab53f8c0762d36940",
            "value": 353
          }
        },
        "020f804b9b2a47c88e85ff42871c6243": {
          "model_module": "@jupyter-widgets/controls",
          "model_name": "HTMLModel",
          "model_module_version": "1.5.0",
          "state": {
            "_dom_classes": [],
            "_model_module": "@jupyter-widgets/controls",
            "_model_module_version": "1.5.0",
            "_model_name": "HTMLModel",
            "_view_count": null,
            "_view_module": "@jupyter-widgets/controls",
            "_view_module_version": "1.5.0",
            "_view_name": "HTMLView",
            "description": "",
            "description_tooltip": null,
            "layout": "IPY_MODEL_3784b2edcec74ce6b400f52d2f1865cf",
            "placeholder": "​",
            "style": "IPY_MODEL_90af693a883b46b4ae81f6fda6477cd8",
            "value": " 353/353 [00:32&lt;00:00, 10.89it/s, loss=1.57, train_loss_step=1.640, train_loss_epoch=1.590]"
          }
        },
        "0e1b67a321044eb492e6540bf189c88f": {
          "model_module": "@jupyter-widgets/base",
          "model_name": "LayoutModel",
          "model_module_version": "1.2.0",
          "state": {
            "_model_module": "@jupyter-widgets/base",
            "_model_module_version": "1.2.0",
            "_model_name": "LayoutModel",
            "_view_count": null,
            "_view_module": "@jupyter-widgets/base",
            "_view_module_version": "1.2.0",
            "_view_name": "LayoutView",
            "align_content": null,
            "align_items": null,
            "align_self": null,
            "border": null,
            "bottom": null,
            "display": "inline-flex",
            "flex": null,
            "flex_flow": "row wrap",
            "grid_area": null,
            "grid_auto_columns": null,
            "grid_auto_flow": null,
            "grid_auto_rows": null,
            "grid_column": null,
            "grid_gap": null,
            "grid_row": null,
            "grid_template_areas": null,
            "grid_template_columns": null,
            "grid_template_rows": null,
            "height": null,
            "justify_content": null,
            "justify_items": null,
            "left": null,
            "margin": null,
            "max_height": null,
            "max_width": null,
            "min_height": null,
            "min_width": null,
            "object_fit": null,
            "object_position": null,
            "order": null,
            "overflow": null,
            "overflow_x": null,
            "overflow_y": null,
            "padding": null,
            "right": null,
            "top": null,
            "visibility": null,
            "width": "100%"
          }
        },
        "c92ba83f6f1c498fa20b3a47ec2fa732": {
          "model_module": "@jupyter-widgets/base",
          "model_name": "LayoutModel",
          "model_module_version": "1.2.0",
          "state": {
            "_model_module": "@jupyter-widgets/base",
            "_model_module_version": "1.2.0",
            "_model_name": "LayoutModel",
            "_view_count": null,
            "_view_module": "@jupyter-widgets/base",
            "_view_module_version": "1.2.0",
            "_view_name": "LayoutView",
            "align_content": null,
            "align_items": null,
            "align_self": null,
            "border": null,
            "bottom": null,
            "display": null,
            "flex": null,
            "flex_flow": null,
            "grid_area": null,
            "grid_auto_columns": null,
            "grid_auto_flow": null,
            "grid_auto_rows": null,
            "grid_column": null,
            "grid_gap": null,
            "grid_row": null,
            "grid_template_areas": null,
            "grid_template_columns": null,
            "grid_template_rows": null,
            "height": null,
            "justify_content": null,
            "justify_items": null,
            "left": null,
            "margin": null,
            "max_height": null,
            "max_width": null,
            "min_height": null,
            "min_width": null,
            "object_fit": null,
            "object_position": null,
            "order": null,
            "overflow": null,
            "overflow_x": null,
            "overflow_y": null,
            "padding": null,
            "right": null,
            "top": null,
            "visibility": null,
            "width": null
          }
        },
        "2efb261f570040df9697e6b860bc98bd": {
          "model_module": "@jupyter-widgets/controls",
          "model_name": "DescriptionStyleModel",
          "model_module_version": "1.5.0",
          "state": {
            "_model_module": "@jupyter-widgets/controls",
            "_model_module_version": "1.5.0",
            "_model_name": "DescriptionStyleModel",
            "_view_count": null,
            "_view_module": "@jupyter-widgets/base",
            "_view_module_version": "1.2.0",
            "_view_name": "StyleView",
            "description_width": ""
          }
        },
        "2ef077fc16f44313a17ecc578d2c09fb": {
          "model_module": "@jupyter-widgets/base",
          "model_name": "LayoutModel",
          "model_module_version": "1.2.0",
          "state": {
            "_model_module": "@jupyter-widgets/base",
            "_model_module_version": "1.2.0",
            "_model_name": "LayoutModel",
            "_view_count": null,
            "_view_module": "@jupyter-widgets/base",
            "_view_module_version": "1.2.0",
            "_view_name": "LayoutView",
            "align_content": null,
            "align_items": null,
            "align_self": null,
            "border": null,
            "bottom": null,
            "display": null,
            "flex": "2",
            "flex_flow": null,
            "grid_area": null,
            "grid_auto_columns": null,
            "grid_auto_flow": null,
            "grid_auto_rows": null,
            "grid_column": null,
            "grid_gap": null,
            "grid_row": null,
            "grid_template_areas": null,
            "grid_template_columns": null,
            "grid_template_rows": null,
            "height": null,
            "justify_content": null,
            "justify_items": null,
            "left": null,
            "margin": null,
            "max_height": null,
            "max_width": null,
            "min_height": null,
            "min_width": null,
            "object_fit": null,
            "object_position": null,
            "order": null,
            "overflow": null,
            "overflow_x": null,
            "overflow_y": null,
            "padding": null,
            "right": null,
            "top": null,
            "visibility": null,
            "width": null
          }
        },
        "b354ece6e2a24bdab53f8c0762d36940": {
          "model_module": "@jupyter-widgets/controls",
          "model_name": "ProgressStyleModel",
          "model_module_version": "1.5.0",
          "state": {
            "_model_module": "@jupyter-widgets/controls",
            "_model_module_version": "1.5.0",
            "_model_name": "ProgressStyleModel",
            "_view_count": null,
            "_view_module": "@jupyter-widgets/base",
            "_view_module_version": "1.2.0",
            "_view_name": "StyleView",
            "bar_color": null,
            "description_width": ""
          }
        },
        "3784b2edcec74ce6b400f52d2f1865cf": {
          "model_module": "@jupyter-widgets/base",
          "model_name": "LayoutModel",
          "model_module_version": "1.2.0",
          "state": {
            "_model_module": "@jupyter-widgets/base",
            "_model_module_version": "1.2.0",
            "_model_name": "LayoutModel",
            "_view_count": null,
            "_view_module": "@jupyter-widgets/base",
            "_view_module_version": "1.2.0",
            "_view_name": "LayoutView",
            "align_content": null,
            "align_items": null,
            "align_self": null,
            "border": null,
            "bottom": null,
            "display": null,
            "flex": null,
            "flex_flow": null,
            "grid_area": null,
            "grid_auto_columns": null,
            "grid_auto_flow": null,
            "grid_auto_rows": null,
            "grid_column": null,
            "grid_gap": null,
            "grid_row": null,
            "grid_template_areas": null,
            "grid_template_columns": null,
            "grid_template_rows": null,
            "height": null,
            "justify_content": null,
            "justify_items": null,
            "left": null,
            "margin": null,
            "max_height": null,
            "max_width": null,
            "min_height": null,
            "min_width": null,
            "object_fit": null,
            "object_position": null,
            "order": null,
            "overflow": null,
            "overflow_x": null,
            "overflow_y": null,
            "padding": null,
            "right": null,
            "top": null,
            "visibility": null,
            "width": null
          }
        },
        "90af693a883b46b4ae81f6fda6477cd8": {
          "model_module": "@jupyter-widgets/controls",
          "model_name": "DescriptionStyleModel",
          "model_module_version": "1.5.0",
          "state": {
            "_model_module": "@jupyter-widgets/controls",
            "_model_module_version": "1.5.0",
            "_model_name": "DescriptionStyleModel",
            "_view_count": null,
            "_view_module": "@jupyter-widgets/base",
            "_view_module_version": "1.2.0",
            "_view_name": "StyleView",
            "description_width": ""
          }
        },
        "f0a1e19998f7416685bc63b2622a7cd7": {
          "model_module": "@jupyter-widgets/controls",
          "model_name": "HBoxModel",
          "model_module_version": "1.5.0",
          "state": {
            "_dom_classes": [],
            "_model_module": "@jupyter-widgets/controls",
            "_model_module_version": "1.5.0",
            "_model_name": "HBoxModel",
            "_view_count": null,
            "_view_module": "@jupyter-widgets/controls",
            "_view_module_version": "1.5.0",
            "_view_name": "HBoxView",
            "box_style": "",
            "children": [
              "IPY_MODEL_3c63259fc0194f389bce2bbc810f7dd5",
              "IPY_MODEL_b124b4ac79184c0c89cc5d02c0c0ce60",
              "IPY_MODEL_761a27f34fbf43a68491ab3dc5439b9e"
            ],
            "layout": "IPY_MODEL_7d0a8e7d3ce54de9a5415a2cb1429c5b"
          }
        },
        "3c63259fc0194f389bce2bbc810f7dd5": {
          "model_module": "@jupyter-widgets/controls",
          "model_name": "HTMLModel",
          "model_module_version": "1.5.0",
          "state": {
            "_dom_classes": [],
            "_model_module": "@jupyter-widgets/controls",
            "_model_module_version": "1.5.0",
            "_model_name": "HTMLModel",
            "_view_count": null,
            "_view_module": "@jupyter-widgets/controls",
            "_view_module_version": "1.5.0",
            "_view_name": "HTMLView",
            "description": "",
            "description_tooltip": null,
            "layout": "IPY_MODEL_031306b5e8b24675bec2a7edc220f92d",
            "placeholder": "​",
            "style": "IPY_MODEL_c2ac7cc5540243b59e7531e754ceea3a",
            "value": "Epoch 3: 100%"
          }
        },
        "b124b4ac79184c0c89cc5d02c0c0ce60": {
          "model_module": "@jupyter-widgets/controls",
          "model_name": "FloatProgressModel",
          "model_module_version": "1.5.0",
          "state": {
            "_dom_classes": [],
            "_model_module": "@jupyter-widgets/controls",
            "_model_module_version": "1.5.0",
            "_model_name": "FloatProgressModel",
            "_view_count": null,
            "_view_module": "@jupyter-widgets/controls",
            "_view_module_version": "1.5.0",
            "_view_name": "ProgressView",
            "bar_style": "success",
            "description": "",
            "description_tooltip": null,
            "layout": "IPY_MODEL_2a8bcda22b3640879c73dcee2f637410",
            "max": 353,
            "min": 0,
            "orientation": "horizontal",
            "style": "IPY_MODEL_b69c904b8cde4c4a8bbc0b9c03e4399d",
            "value": 353
          }
        },
        "761a27f34fbf43a68491ab3dc5439b9e": {
          "model_module": "@jupyter-widgets/controls",
          "model_name": "HTMLModel",
          "model_module_version": "1.5.0",
          "state": {
            "_dom_classes": [],
            "_model_module": "@jupyter-widgets/controls",
            "_model_module_version": "1.5.0",
            "_model_name": "HTMLModel",
            "_view_count": null,
            "_view_module": "@jupyter-widgets/controls",
            "_view_module_version": "1.5.0",
            "_view_name": "HTMLView",
            "description": "",
            "description_tooltip": null,
            "layout": "IPY_MODEL_86cb4da4659d4bf9836ec9f15db3e059",
            "placeholder": "​",
            "style": "IPY_MODEL_01d5596f593a4a4790b2050e75fa0234",
            "value": " 353/353 [00:32&lt;00:00, 10.78it/s, loss=1.56, train_loss_step=1.500, train_loss_epoch=1.580]"
          }
        },
        "7d0a8e7d3ce54de9a5415a2cb1429c5b": {
          "model_module": "@jupyter-widgets/base",
          "model_name": "LayoutModel",
          "model_module_version": "1.2.0",
          "state": {
            "_model_module": "@jupyter-widgets/base",
            "_model_module_version": "1.2.0",
            "_model_name": "LayoutModel",
            "_view_count": null,
            "_view_module": "@jupyter-widgets/base",
            "_view_module_version": "1.2.0",
            "_view_name": "LayoutView",
            "align_content": null,
            "align_items": null,
            "align_self": null,
            "border": null,
            "bottom": null,
            "display": "inline-flex",
            "flex": null,
            "flex_flow": "row wrap",
            "grid_area": null,
            "grid_auto_columns": null,
            "grid_auto_flow": null,
            "grid_auto_rows": null,
            "grid_column": null,
            "grid_gap": null,
            "grid_row": null,
            "grid_template_areas": null,
            "grid_template_columns": null,
            "grid_template_rows": null,
            "height": null,
            "justify_content": null,
            "justify_items": null,
            "left": null,
            "margin": null,
            "max_height": null,
            "max_width": null,
            "min_height": null,
            "min_width": null,
            "object_fit": null,
            "object_position": null,
            "order": null,
            "overflow": null,
            "overflow_x": null,
            "overflow_y": null,
            "padding": null,
            "right": null,
            "top": null,
            "visibility": null,
            "width": "100%"
          }
        },
        "031306b5e8b24675bec2a7edc220f92d": {
          "model_module": "@jupyter-widgets/base",
          "model_name": "LayoutModel",
          "model_module_version": "1.2.0",
          "state": {
            "_model_module": "@jupyter-widgets/base",
            "_model_module_version": "1.2.0",
            "_model_name": "LayoutModel",
            "_view_count": null,
            "_view_module": "@jupyter-widgets/base",
            "_view_module_version": "1.2.0",
            "_view_name": "LayoutView",
            "align_content": null,
            "align_items": null,
            "align_self": null,
            "border": null,
            "bottom": null,
            "display": null,
            "flex": null,
            "flex_flow": null,
            "grid_area": null,
            "grid_auto_columns": null,
            "grid_auto_flow": null,
            "grid_auto_rows": null,
            "grid_column": null,
            "grid_gap": null,
            "grid_row": null,
            "grid_template_areas": null,
            "grid_template_columns": null,
            "grid_template_rows": null,
            "height": null,
            "justify_content": null,
            "justify_items": null,
            "left": null,
            "margin": null,
            "max_height": null,
            "max_width": null,
            "min_height": null,
            "min_width": null,
            "object_fit": null,
            "object_position": null,
            "order": null,
            "overflow": null,
            "overflow_x": null,
            "overflow_y": null,
            "padding": null,
            "right": null,
            "top": null,
            "visibility": null,
            "width": null
          }
        },
        "c2ac7cc5540243b59e7531e754ceea3a": {
          "model_module": "@jupyter-widgets/controls",
          "model_name": "DescriptionStyleModel",
          "model_module_version": "1.5.0",
          "state": {
            "_model_module": "@jupyter-widgets/controls",
            "_model_module_version": "1.5.0",
            "_model_name": "DescriptionStyleModel",
            "_view_count": null,
            "_view_module": "@jupyter-widgets/base",
            "_view_module_version": "1.2.0",
            "_view_name": "StyleView",
            "description_width": ""
          }
        },
        "2a8bcda22b3640879c73dcee2f637410": {
          "model_module": "@jupyter-widgets/base",
          "model_name": "LayoutModel",
          "model_module_version": "1.2.0",
          "state": {
            "_model_module": "@jupyter-widgets/base",
            "_model_module_version": "1.2.0",
            "_model_name": "LayoutModel",
            "_view_count": null,
            "_view_module": "@jupyter-widgets/base",
            "_view_module_version": "1.2.0",
            "_view_name": "LayoutView",
            "align_content": null,
            "align_items": null,
            "align_self": null,
            "border": null,
            "bottom": null,
            "display": null,
            "flex": "2",
            "flex_flow": null,
            "grid_area": null,
            "grid_auto_columns": null,
            "grid_auto_flow": null,
            "grid_auto_rows": null,
            "grid_column": null,
            "grid_gap": null,
            "grid_row": null,
            "grid_template_areas": null,
            "grid_template_columns": null,
            "grid_template_rows": null,
            "height": null,
            "justify_content": null,
            "justify_items": null,
            "left": null,
            "margin": null,
            "max_height": null,
            "max_width": null,
            "min_height": null,
            "min_width": null,
            "object_fit": null,
            "object_position": null,
            "order": null,
            "overflow": null,
            "overflow_x": null,
            "overflow_y": null,
            "padding": null,
            "right": null,
            "top": null,
            "visibility": null,
            "width": null
          }
        },
        "b69c904b8cde4c4a8bbc0b9c03e4399d": {
          "model_module": "@jupyter-widgets/controls",
          "model_name": "ProgressStyleModel",
          "model_module_version": "1.5.0",
          "state": {
            "_model_module": "@jupyter-widgets/controls",
            "_model_module_version": "1.5.0",
            "_model_name": "ProgressStyleModel",
            "_view_count": null,
            "_view_module": "@jupyter-widgets/base",
            "_view_module_version": "1.2.0",
            "_view_name": "StyleView",
            "bar_color": null,
            "description_width": ""
          }
        },
        "86cb4da4659d4bf9836ec9f15db3e059": {
          "model_module": "@jupyter-widgets/base",
          "model_name": "LayoutModel",
          "model_module_version": "1.2.0",
          "state": {
            "_model_module": "@jupyter-widgets/base",
            "_model_module_version": "1.2.0",
            "_model_name": "LayoutModel",
            "_view_count": null,
            "_view_module": "@jupyter-widgets/base",
            "_view_module_version": "1.2.0",
            "_view_name": "LayoutView",
            "align_content": null,
            "align_items": null,
            "align_self": null,
            "border": null,
            "bottom": null,
            "display": null,
            "flex": null,
            "flex_flow": null,
            "grid_area": null,
            "grid_auto_columns": null,
            "grid_auto_flow": null,
            "grid_auto_rows": null,
            "grid_column": null,
            "grid_gap": null,
            "grid_row": null,
            "grid_template_areas": null,
            "grid_template_columns": null,
            "grid_template_rows": null,
            "height": null,
            "justify_content": null,
            "justify_items": null,
            "left": null,
            "margin": null,
            "max_height": null,
            "max_width": null,
            "min_height": null,
            "min_width": null,
            "object_fit": null,
            "object_position": null,
            "order": null,
            "overflow": null,
            "overflow_x": null,
            "overflow_y": null,
            "padding": null,
            "right": null,
            "top": null,
            "visibility": null,
            "width": null
          }
        },
        "01d5596f593a4a4790b2050e75fa0234": {
          "model_module": "@jupyter-widgets/controls",
          "model_name": "DescriptionStyleModel",
          "model_module_version": "1.5.0",
          "state": {
            "_model_module": "@jupyter-widgets/controls",
            "_model_module_version": "1.5.0",
            "_model_name": "DescriptionStyleModel",
            "_view_count": null,
            "_view_module": "@jupyter-widgets/base",
            "_view_module_version": "1.2.0",
            "_view_name": "StyleView",
            "description_width": ""
          }
        },
        "22902776b798466d804cdb44ccd487b6": {
          "model_module": "@jupyter-widgets/controls",
          "model_name": "HBoxModel",
          "model_module_version": "1.5.0",
          "state": {
            "_dom_classes": [],
            "_model_module": "@jupyter-widgets/controls",
            "_model_module_version": "1.5.0",
            "_model_name": "HBoxModel",
            "_view_count": null,
            "_view_module": "@jupyter-widgets/controls",
            "_view_module_version": "1.5.0",
            "_view_name": "HBoxView",
            "box_style": "",
            "children": [
              "IPY_MODEL_ec8ab5a88f5a4671a3a88e5539929660",
              "IPY_MODEL_94582f074c5a4c8e9b755532421373b7",
              "IPY_MODEL_b05cc5bc055c46f7b0cb2d109acf43eb"
            ],
            "layout": "IPY_MODEL_bb5a781f04e649f78ea7419add0d18e2"
          }
        },
        "ec8ab5a88f5a4671a3a88e5539929660": {
          "model_module": "@jupyter-widgets/controls",
          "model_name": "HTMLModel",
          "model_module_version": "1.5.0",
          "state": {
            "_dom_classes": [],
            "_model_module": "@jupyter-widgets/controls",
            "_model_module_version": "1.5.0",
            "_model_name": "HTMLModel",
            "_view_count": null,
            "_view_module": "@jupyter-widgets/controls",
            "_view_module_version": "1.5.0",
            "_view_name": "HTMLView",
            "description": "",
            "description_tooltip": null,
            "layout": "IPY_MODEL_06e23ab8d7194917b53b86fd415269e0",
            "placeholder": "​",
            "style": "IPY_MODEL_4b3f8ab3a87d4ed2850f74885885b469",
            "value": "Epoch 3: 100%"
          }
        },
        "94582f074c5a4c8e9b755532421373b7": {
          "model_module": "@jupyter-widgets/controls",
          "model_name": "FloatProgressModel",
          "model_module_version": "1.5.0",
          "state": {
            "_dom_classes": [],
            "_model_module": "@jupyter-widgets/controls",
            "_model_module_version": "1.5.0",
            "_model_name": "FloatProgressModel",
            "_view_count": null,
            "_view_module": "@jupyter-widgets/controls",
            "_view_module_version": "1.5.0",
            "_view_name": "ProgressView",
            "bar_style": "success",
            "description": "",
            "description_tooltip": null,
            "layout": "IPY_MODEL_995edd9234514772873a6e94cd340f60",
            "max": 353,
            "min": 0,
            "orientation": "horizontal",
            "style": "IPY_MODEL_dedfa4957fd14793a095166cd0a6744e",
            "value": 353
          }
        },
        "b05cc5bc055c46f7b0cb2d109acf43eb": {
          "model_module": "@jupyter-widgets/controls",
          "model_name": "HTMLModel",
          "model_module_version": "1.5.0",
          "state": {
            "_dom_classes": [],
            "_model_module": "@jupyter-widgets/controls",
            "_model_module_version": "1.5.0",
            "_model_name": "HTMLModel",
            "_view_count": null,
            "_view_module": "@jupyter-widgets/controls",
            "_view_module_version": "1.5.0",
            "_view_name": "HTMLView",
            "description": "",
            "description_tooltip": null,
            "layout": "IPY_MODEL_9214699153df42d58d3e9d55916277c8",
            "placeholder": "​",
            "style": "IPY_MODEL_a9203d18d2314657a789c7d278728658",
            "value": " 353/353 [00:32&lt;00:00, 10.76it/s, loss=1.54, train_loss_step=1.490, train_loss_epoch=1.590]"
          }
        },
        "bb5a781f04e649f78ea7419add0d18e2": {
          "model_module": "@jupyter-widgets/base",
          "model_name": "LayoutModel",
          "model_module_version": "1.2.0",
          "state": {
            "_model_module": "@jupyter-widgets/base",
            "_model_module_version": "1.2.0",
            "_model_name": "LayoutModel",
            "_view_count": null,
            "_view_module": "@jupyter-widgets/base",
            "_view_module_version": "1.2.0",
            "_view_name": "LayoutView",
            "align_content": null,
            "align_items": null,
            "align_self": null,
            "border": null,
            "bottom": null,
            "display": "inline-flex",
            "flex": null,
            "flex_flow": "row wrap",
            "grid_area": null,
            "grid_auto_columns": null,
            "grid_auto_flow": null,
            "grid_auto_rows": null,
            "grid_column": null,
            "grid_gap": null,
            "grid_row": null,
            "grid_template_areas": null,
            "grid_template_columns": null,
            "grid_template_rows": null,
            "height": null,
            "justify_content": null,
            "justify_items": null,
            "left": null,
            "margin": null,
            "max_height": null,
            "max_width": null,
            "min_height": null,
            "min_width": null,
            "object_fit": null,
            "object_position": null,
            "order": null,
            "overflow": null,
            "overflow_x": null,
            "overflow_y": null,
            "padding": null,
            "right": null,
            "top": null,
            "visibility": null,
            "width": "100%"
          }
        },
        "06e23ab8d7194917b53b86fd415269e0": {
          "model_module": "@jupyter-widgets/base",
          "model_name": "LayoutModel",
          "model_module_version": "1.2.0",
          "state": {
            "_model_module": "@jupyter-widgets/base",
            "_model_module_version": "1.2.0",
            "_model_name": "LayoutModel",
            "_view_count": null,
            "_view_module": "@jupyter-widgets/base",
            "_view_module_version": "1.2.0",
            "_view_name": "LayoutView",
            "align_content": null,
            "align_items": null,
            "align_self": null,
            "border": null,
            "bottom": null,
            "display": null,
            "flex": null,
            "flex_flow": null,
            "grid_area": null,
            "grid_auto_columns": null,
            "grid_auto_flow": null,
            "grid_auto_rows": null,
            "grid_column": null,
            "grid_gap": null,
            "grid_row": null,
            "grid_template_areas": null,
            "grid_template_columns": null,
            "grid_template_rows": null,
            "height": null,
            "justify_content": null,
            "justify_items": null,
            "left": null,
            "margin": null,
            "max_height": null,
            "max_width": null,
            "min_height": null,
            "min_width": null,
            "object_fit": null,
            "object_position": null,
            "order": null,
            "overflow": null,
            "overflow_x": null,
            "overflow_y": null,
            "padding": null,
            "right": null,
            "top": null,
            "visibility": null,
            "width": null
          }
        },
        "4b3f8ab3a87d4ed2850f74885885b469": {
          "model_module": "@jupyter-widgets/controls",
          "model_name": "DescriptionStyleModel",
          "model_module_version": "1.5.0",
          "state": {
            "_model_module": "@jupyter-widgets/controls",
            "_model_module_version": "1.5.0",
            "_model_name": "DescriptionStyleModel",
            "_view_count": null,
            "_view_module": "@jupyter-widgets/base",
            "_view_module_version": "1.2.0",
            "_view_name": "StyleView",
            "description_width": ""
          }
        },
        "995edd9234514772873a6e94cd340f60": {
          "model_module": "@jupyter-widgets/base",
          "model_name": "LayoutModel",
          "model_module_version": "1.2.0",
          "state": {
            "_model_module": "@jupyter-widgets/base",
            "_model_module_version": "1.2.0",
            "_model_name": "LayoutModel",
            "_view_count": null,
            "_view_module": "@jupyter-widgets/base",
            "_view_module_version": "1.2.0",
            "_view_name": "LayoutView",
            "align_content": null,
            "align_items": null,
            "align_self": null,
            "border": null,
            "bottom": null,
            "display": null,
            "flex": "2",
            "flex_flow": null,
            "grid_area": null,
            "grid_auto_columns": null,
            "grid_auto_flow": null,
            "grid_auto_rows": null,
            "grid_column": null,
            "grid_gap": null,
            "grid_row": null,
            "grid_template_areas": null,
            "grid_template_columns": null,
            "grid_template_rows": null,
            "height": null,
            "justify_content": null,
            "justify_items": null,
            "left": null,
            "margin": null,
            "max_height": null,
            "max_width": null,
            "min_height": null,
            "min_width": null,
            "object_fit": null,
            "object_position": null,
            "order": null,
            "overflow": null,
            "overflow_x": null,
            "overflow_y": null,
            "padding": null,
            "right": null,
            "top": null,
            "visibility": null,
            "width": null
          }
        },
        "dedfa4957fd14793a095166cd0a6744e": {
          "model_module": "@jupyter-widgets/controls",
          "model_name": "ProgressStyleModel",
          "model_module_version": "1.5.0",
          "state": {
            "_model_module": "@jupyter-widgets/controls",
            "_model_module_version": "1.5.0",
            "_model_name": "ProgressStyleModel",
            "_view_count": null,
            "_view_module": "@jupyter-widgets/base",
            "_view_module_version": "1.2.0",
            "_view_name": "StyleView",
            "bar_color": null,
            "description_width": ""
          }
        },
        "9214699153df42d58d3e9d55916277c8": {
          "model_module": "@jupyter-widgets/base",
          "model_name": "LayoutModel",
          "model_module_version": "1.2.0",
          "state": {
            "_model_module": "@jupyter-widgets/base",
            "_model_module_version": "1.2.0",
            "_model_name": "LayoutModel",
            "_view_count": null,
            "_view_module": "@jupyter-widgets/base",
            "_view_module_version": "1.2.0",
            "_view_name": "LayoutView",
            "align_content": null,
            "align_items": null,
            "align_self": null,
            "border": null,
            "bottom": null,
            "display": null,
            "flex": null,
            "flex_flow": null,
            "grid_area": null,
            "grid_auto_columns": null,
            "grid_auto_flow": null,
            "grid_auto_rows": null,
            "grid_column": null,
            "grid_gap": null,
            "grid_row": null,
            "grid_template_areas": null,
            "grid_template_columns": null,
            "grid_template_rows": null,
            "height": null,
            "justify_content": null,
            "justify_items": null,
            "left": null,
            "margin": null,
            "max_height": null,
            "max_width": null,
            "min_height": null,
            "min_width": null,
            "object_fit": null,
            "object_position": null,
            "order": null,
            "overflow": null,
            "overflow_x": null,
            "overflow_y": null,
            "padding": null,
            "right": null,
            "top": null,
            "visibility": null,
            "width": null
          }
        },
        "a9203d18d2314657a789c7d278728658": {
          "model_module": "@jupyter-widgets/controls",
          "model_name": "DescriptionStyleModel",
          "model_module_version": "1.5.0",
          "state": {
            "_model_module": "@jupyter-widgets/controls",
            "_model_module_version": "1.5.0",
            "_model_name": "DescriptionStyleModel",
            "_view_count": null,
            "_view_module": "@jupyter-widgets/base",
            "_view_module_version": "1.2.0",
            "_view_name": "StyleView",
            "description_width": ""
          }
        }
      }
    }
  },
  "cells": [
    {
      "cell_type": "markdown",
      "metadata": {
        "id": "view-in-github",
        "colab_type": "text"
      },
      "source": [
        "<a href=\"https://colab.research.google.com/github/Vitky2/data_analysis/blob/hw_2/hw2.ipynb\" target=\"_parent\"><img src=\"https://colab.research.google.com/assets/colab-badge.svg\" alt=\"Open In Colab\"/></a>"
      ]
    },
    {
      "cell_type": "markdown",
      "source": [
        "# Данные\n",
        "1. В работе будет использоваться датасет machine_temperature_system_failure"
      ],
      "metadata": {
        "id": "2Jfk3I8xK93I"
      }
    },
    {
      "cell_type": "code",
      "source": [
        "# !pip install pandas numpy matplotlib keras"
      ],
      "metadata": {
        "id": "4QU2qWzwYuiT"
      },
      "execution_count": null,
      "outputs": []
    },
    {
      "cell_type": "markdown",
      "source": [
        "Подгружаем библиотеки"
      ],
      "metadata": {
        "id": "R12oBxvfLIlj"
      }
    },
    {
      "cell_type": "code",
      "execution_count": null,
      "metadata": {
        "id": "SBetiLkEOZyd"
      },
      "outputs": [],
      "source": [
        "import pandas as pd\n",
        "import numpy as np\n",
        "import matplotlib.pyplot as plt\n",
        "from statsmodels.tsa.stattools import adfuller\n",
        "from statsmodels.graphics.tsaplots import plot_acf, plot_pacf\n",
        "from sklearn.ensemble import RandomForestRegressor\n",
        "from sklearn.metrics import mean_squared_error\n",
        "from keras.models import Sequential\n",
        "from keras.layers import LSTM, Dense, Dropout\n",
        "from sklearn.preprocessing import MinMaxScaler\n",
        "from etna.datasets import TSDataset\n",
        "from etna.models.nn import DeepARNativeModel, RNNModel\n",
        "from etna.metrics import MAE\n",
        "\n",
        "from etna.datasets.tsdataset import TSDataset\n",
        "from etna.pipeline import Pipeline\n",
        "from etna.transforms import DateFlagsTransform, LagTransform, LinearTrendTransform, StandardScalerTransform\n",
        "from etna.metrics import SMAPE, MAPE, MAE\n",
        "from etna.analysis import plot_backtest\n",
        "from etna.models import SeasonalMovingAverageModel\n",
        "from etna.models.nn import DeepARModel, RNNModel\n",
        "from etna.models.nn.utils import PytorchForecastingDatasetBuilder\n",
        "\n",
        "from pytorch_forecasting.data import GroupNormalizer"
      ]
    },
    {
      "cell_type": "markdown",
      "source": [
        "Установка seed для воспроизводимости"
      ],
      "metadata": {
        "id": "KpLsH20dLNJd"
      }
    },
    {
      "cell_type": "code",
      "source": [
        "np.random.seed(52)"
      ],
      "metadata": {
        "id": "THvTbGMMhaB2"
      },
      "execution_count": null,
      "outputs": []
    },
    {
      "cell_type": "code",
      "source": [
        "# Функция для загрузки и подготовки данных\n",
        "\n",
        "def load_data(file_path):\n",
        "    data = pd.read_csv(file_path)\n",
        "    data['timestamp'] = pd.to_datetime(data['timestamp'])\n",
        "    return data"
      ],
      "metadata": {
        "id": "2VVKz5keLpQ2"
      },
      "execution_count": null,
      "outputs": []
    },
    {
      "cell_type": "code",
      "source": [
        "# Функция для визуализации временного ряда\n",
        "def plot_time_series(data, title):\n",
        "    plt.figure(figsize=(12, 6))\n",
        "    plt.plot(data['value'], label='Значение')\n",
        "    plt.title(title)\n",
        "    plt.xlabel('Время')\n",
        "    plt.ylabel('Значение')\n",
        "    plt.legend()\n",
        "    plt.show()"
      ],
      "metadata": {
        "id": "RG7QgCG4Lso1"
      },
      "execution_count": null,
      "outputs": []
    },
    {
      "cell_type": "markdown",
      "source": [
        "## Визуализируем данные"
      ],
      "metadata": {
        "id": "92a946qtL4JE"
      }
    },
    {
      "cell_type": "code",
      "source": [
        "# Загрузка данных\n",
        "data = load_data('machine_temperature_system_failure.csv')\n",
        "plot_time_series(data, 'График')\n",
        "data.info()"
      ],
      "metadata": {
        "id": "_e8mm-6jOyHb",
        "colab": {
          "base_uri": "https://localhost:8080/",
          "height": 564
        },
        "outputId": "a20faccf-eb1d-4866-ecaa-91b0ddbbb9c6"
      },
      "execution_count": null,
      "outputs": [
        {
          "output_type": "display_data",
          "data": {
            "text/plain": [
              "<Figure size 1200x600 with 1 Axes>"
            ],
            "image/png": "[encoded data removed]"
          },
          "metadata": {}
        }
      ]
    },
    {
      "cell_type": "markdown",
      "source": [
        "## Сделаем train/test split"
      ],
      "metadata": {
        "id": "Un3lZe1VMBoN"
      }
    },
    {
      "cell_type": "code",
      "source": [
        "# Train/Test Split\n",
        "train_size = int(len(data) * 0.8)\n",
        "train, test = data[:train_size], data[train_size:]"
      ],
      "metadata": {
        "id": "NNEtO072QHZ_",
        "colab": {
          "base_uri": "https://localhost:8080/"
        },
        "outputId": "5c434726-f0db-421e-c6ca-3a8390c7ea03"
      },
      "execution_count": null,
      "outputs": [
        {
          "output_type": "stream",
          "name": "stdout",
          "text": [
            "<class 'pandas.core.frame.DataFrame'>\n",
            "RangeIndex: 22695 entries, 0 to 22694\n",
            "Data columns (total 2 columns):\n",
            " #   Column     Non-Null Count  Dtype         \n",
            "---  ------     --------------  -----         \n",
            " 0   timestamp  22695 non-null  datetime64[ns]\n",
            " 1   value      22695 non-null  float64       \n",
            "dtypes: datetime64[ns](1), float64(1)\n",
            "memory usage: 354.7 KB\n"
          ]
        }
      ]
    },
    {
      "cell_type": "markdown",
      "source": [
        "## Выберем метрику"
      ],
      "metadata": {
        "id": "HcOscO6fMJPs"
      }
    },
    {
      "cell_type": "code",
      "source": [
        "# Функция метрики smape\n",
        "def smape(y_true, y_pred):\n",
        "    \"\"\"Calculates the Symmetric Mean Absolute Percentage Error (SMAPE)\"\"\"\n",
        "    denominator = np.abs(y_true) + np.abs(y_pred)\n",
        "    diff = np.abs(y_true - y_pred) / denominator\n",
        "    diff[denominator == 0] = 0.0  # Избегаем деления на ноль\n",
        "    return 100 * np.mean(diff)"
      ],
      "metadata": {
        "id": "ZGxwtdGCMKGR"
      },
      "execution_count": null,
      "outputs": []
    },
    {
      "cell_type": "markdown",
      "source": [
        "# Прогнозирование\n",
        "\n",
        "## Бейзлайн\n",
        "\n",
        "Построим бейзлайн в виде наивного прогноза"
      ],
      "metadata": {
        "id": "g6T5fGNsMUWN"
      }
    },
    {
      "cell_type": "code",
      "source": [
        "# Бейзлайн\n",
        "baseline = train['value'].iloc[-1]  # Наивный прогноз\n",
        "test['Baseline'] = baseline"
      ],
      "metadata": {
        "id": "jZXJFWmVRZa7",
        "colab": {
          "base_uri": "https://localhost:8080/"
        },
        "outputId": "ed1d1052-ce5c-4a91-9ebc-6628c03c2f99"
      },
      "execution_count": null,
      "outputs": [
        {
          "output_type": "stream",
          "name": "stderr",
          "text": [
            "<ipython-input-11-1cc07f438da7>:3: SettingWithCopyWarning: \n",
            "A value is trying to be set on a copy of a slice from a DataFrame.\n",
            "Try using .loc[row_indexer,col_indexer] = value instead\n",
            "\n",
            "See the caveats in the documentation: https://pandas.pydata.org/pandas-docs/stable/user_guide/indexing.html#returning-a-view-versus-a-copy\n",
            "  test['Baseline'] = baseline\n"
          ]
        }
      ]
    },
    {
      "cell_type": "markdown",
      "source": [
        "Визуализируем результаты работы модели и произведём замеры качества с выбранной метрикой"
      ],
      "metadata": {
        "id": "t_gEBPQYMxAF"
      }
    },
    {
      "cell_type": "code",
      "source": [
        "# Визуализация бейзлайна\n",
        "plt.figure(figsize=(12, 6))\n",
        "plt.plot(train.index, train['value'], label='Train')\n",
        "plt.plot(test.index, test['value'], label='Test')\n",
        "plt.plot(test.index, test['Baseline'], label='Baseline', linestyle='--')\n",
        "plt.legend()\n",
        "plt.show()\n",
        "\n",
        "# Замеры качества бейзлайна\n",
        "smape_baseline = smape(test['value'], test['Baseline'])\n",
        "print(f'\\nSMAPE Baseline: {smape_baseline:.2f}%')"
      ],
      "metadata": {
        "colab": {
          "base_uri": "https://localhost:8080/",
          "height": 558
        },
        "id": "LZUzuRFRMp4g",
        "outputId": "4f74a6fd-6dd7-449a-85ab-c74fa2bd1cdc"
      },
      "execution_count": null,
      "outputs": [
        {
          "output_type": "display_data",
          "data": {
            "text/plain": [
              "<Figure size 1200x600 with 1 Axes>"
            ],
            "image/png": "[encoded data removed]"
          },
          "metadata": {}
        },
        {
          "output_type": "stream",
          "name": "stdout",
          "text": [
            "\n",
            "SMAPE Baseline: 8.00%\n"
          ]
        }
      ]
    },
    {
      "cell_type": "markdown",
      "source": [
        "## Статическая модель"
      ],
      "metadata": {
        "id": "-FQb9qDnNjte"
      }
    },
    {
      "cell_type": "markdown",
      "source": [
        "Для модуля арима вычиляем p-значение по тесту Дикки-Фуллера, сначала оно >0.5 поэтому дифференции ряд и после этого он становится стационарным. Значения order=(8, 0, 7) подбираются по графикам ACF и PACF, 0 же - это значение"
      ],
      "metadata": {
        "id": "Ol0ZFm06upGn"
      }
    },
    {
      "cell_type": "markdown",
      "source": [
        "Проведём тест Дики-Фуллера"
      ],
      "metadata": {
        "id": "SI7I2BpTN0bp"
      }
    },
    {
      "cell_type": "code",
      "source": [
        "# Тест Дики-Фуллера\n",
        "result = adfuller(data['value'])\n",
        "print(f'p-значение: {result[1]}')"
      ],
      "metadata": {
        "id": "WZADHBVCRe3j",
        "colab": {
          "base_uri": "https://localhost:8080/"
        },
        "outputId": "a6169b99-9396-44c5-e0ae-2e0347f06f1a"
      },
      "execution_count": null,
      "outputs": [
        {
          "output_type": "stream",
          "name": "stdout",
          "text": [
            "p-значение: 9.071345315518266e-11\n"
          ]
        }
      ]
    },
    {
      "cell_type": "markdown",
      "source": [
        "Построим графики ACF/PACF"
      ],
      "metadata": {
        "id": "-D7SlDsrOAcI"
      }
    },
    {
      "cell_type": "code",
      "source": [
        "# ACF и PACF\n",
        "plot_acf(data['value'])\n",
        "plot_pacf(data['value'])\n",
        "plt.show()\n"
      ],
      "metadata": {
        "id": "4MlIaA74N_VG",
        "colab": {
          "base_uri": "https://localhost:8080/",
          "height": 943
        },
        "outputId": "b2182836-161b-45c2-9514-4b1b54854452"
      },
      "execution_count": null,
      "outputs": [
        {
          "output_type": "stream",
          "name": "stderr",
          "text": [
            "/usr/local/lib/python3.10/dist-packages/statsmodels/graphics/tsaplots.py:348: FutureWarning: The default method 'yw' can produce PACF values outside of the [-1,1] interval. After 0.13, the default will change tounadjusted Yule-Walker ('ywm'). You can use this method now by setting method='ywm'.\n",
            "  warnings.warn(\n"
          ]
        },
        {
          "output_type": "display_data",
          "data": {
            "text/plain": [
              "<Figure size 640x480 with 1 Axes>"
            ],
            "image/png": "[encoded data removed]"
          },
          "metadata": {}
        },
        {
          "output_type": "display_data",
          "data": {
            "text/plain": [
              "<Figure size 640x480 with 1 Axes>"
            ],
            "image/png": "[encoded data removed]"
          },
          "metadata": {}
        }
      ]
    },
    {
      "cell_type": "markdown",
      "source": [
        "Проведём преобразования для придания ряду стационарности"
      ],
      "metadata": {
        "id": "r3v-2tPQPV35"
      }
    },
    {
      "cell_type": "code",
      "source": [
        "data_diff = data['value'].diff().dropna()\n",
        "result_diff = adfuller(data_diff)\n",
        "print(f'p-значение после дифференцирования: {result_diff[1]}/n')\n",
        "plot_acf(data_diff)\n",
        "plot_pacf(data_diff)\n",
        "plt.show()"
      ],
      "metadata": {
        "colab": {
          "base_uri": "https://localhost:8080/",
          "height": 961
        },
        "id": "0SDjgpumOZ7b",
        "outputId": "be83c38e-4cea-4b1f-a5e3-22bfcf835f44"
      },
      "execution_count": null,
      "outputs": [
        {
          "output_type": "stream",
          "name": "stdout",
          "text": [
            "p-значение после дифференцирования: 0.0/n\n"
          ]
        },
        {
          "output_type": "stream",
          "name": "stderr",
          "text": [
            "/usr/local/lib/python3.10/dist-packages/statsmodels/graphics/tsaplots.py:348: FutureWarning: The default method 'yw' can produce PACF values outside of the [-1,1] interval. After 0.13, the default will change tounadjusted Yule-Walker ('ywm'). You can use this method now by setting method='ywm'.\n",
            "  warnings.warn(\n"
          ]
        },
        {
          "output_type": "display_data",
          "data": {
            "text/plain": [
              "<Figure size 640x480 with 1 Axes>"
            ],
            "image/png": "[encoded data removed]"
          },
          "metadata": {}
        },
        {
          "output_type": "display_data",
          "data": {
            "text/plain": [
              "<Figure size 640x480 with 1 Axes>"
            ],
            "image/png": "[encoded data removed]"
          },
          "metadata": {}
        }
      ]
    },
    {
      "cell_type": "markdown",
      "source": [
        "Обучим модель ARIMA для прогнозирования значений ряда"
      ],
      "metadata": {
        "id": "LYmo0fTRPh6P"
      }
    },
    {
      "cell_type": "code",
      "source": [
        "# Модель ARIMA\n",
        "from statsmodels.tsa.arima.model import ARIMA\n",
        "\n",
        "model = ARIMA(train['value'], order=(8, 0, 7))\n",
        "model_fit = model.fit()\n",
        "preds = model_fit.forecast(len(test))"
      ],
      "metadata": {
        "colab": {
          "base_uri": "https://localhost:8080/"
        },
        "id": "SzxRwSHVOcda",
        "outputId": "dc5d5125-5e64-4aae-ad51-245b00bd7858"
      },
      "execution_count": null,
      "outputs": [
        {
          "output_type": "stream",
          "name": "stderr",
          "text": [
            "/usr/local/lib/python3.10/dist-packages/statsmodels/tsa/statespace/sarimax.py:966: UserWarning: Non-stationary starting autoregressive parameters found. Using zeros as starting parameters.\n",
            "  warn('Non-stationary starting autoregressive parameters'\n",
            "/usr/local/lib/python3.10/dist-packages/statsmodels/tsa/statespace/sarimax.py:978: UserWarning: Non-invertible starting MA parameters found. Using zeros as starting parameters.\n",
            "  warn('Non-invertible starting MA parameters found.'\n",
            "/usr/local/lib/python3.10/dist-packages/statsmodels/base/model.py:604: ConvergenceWarning: Maximum Likelihood optimization failed to converge. Check mle_retvals\n",
            "  warnings.warn(\"Maximum Likelihood optimization failed to \"\n"
          ]
        }
      ]
    },
    {
      "cell_type": "markdown",
      "source": [
        "Визуализируем модель ARIMA и произведём замеры качества"
      ],
      "metadata": {
        "id": "AChuTuUUPtbt"
      }
    },
    {
      "cell_type": "code",
      "source": [
        "plt.figure(figsize=(12, 6))\n",
        "plt.plot(train.index, train['value'], label='Train')\n",
        "plt.plot(test.index, test['value'], label='Test')\n",
        "plt.plot(test.index, preds, label='ARIMA Predictions', linestyle='--')\n",
        "plt.legend()\n",
        "plt.show()\n",
        "\n",
        "smape_arima = smape(test['value'], preds)\n",
        "print(f'SMAPE ARIMA: {smape_arima}')"
      ],
      "metadata": {
        "colab": {
          "base_uri": "https://localhost:8080/",
          "height": 540
        },
        "id": "gLbeL1P2OknR",
        "outputId": "db1913b9-aa2f-41fe-aade-0c8d3823207a"
      },
      "execution_count": null,
      "outputs": [
        {
          "output_type": "display_data",
          "data": {
            "text/plain": [
              "<Figure size 1200x600 with 1 Axes>"
            ],
            "image/png": "[encoded data removed]"
          },
          "metadata": {}
        },
        {
          "output_type": "stream",
          "name": "stdout",
          "text": [
            "SMAPE ARIMA: 9.048392336003392\n"
          ]
        }
      ]
    },
    {
      "cell_type": "markdown",
      "source": [
        "## Классическая модель\n",
        "\n",
        "Используем Feature-Engineering для создания признаков"
      ],
      "metadata": {
        "id": "v1rTm2gQRec2"
      }
    },
    {
      "cell_type": "code",
      "source": [
        "# Feature Engineering\n",
        "data['lag1'] = data['value'].shift(1)\n",
        "data['rolling_mean'] = data['value'].rolling(window=3).mean()\n",
        "data = data.dropna()"
      ],
      "metadata": {
        "id": "8ozWEr4MUgVt"
      },
      "execution_count": null,
      "outputs": []
    },
    {
      "cell_type": "markdown",
      "source": [
        "На полученном наборе данных обучим случайный лес"
      ],
      "metadata": {
        "id": "XaHsrGcqRuMG"
      }
    },
    {
      "cell_type": "code",
      "source": [
        "# Train/Test Split для Random Forest\n",
        "train_features = data.iloc[:train_size]\n",
        "test_features = data.iloc[train_size:]\n",
        "\n",
        "# Обучение случайного леса\n",
        "rf = RandomForestRegressor(random_state=42)\n",
        "rf.fit(train_features[['lag1', 'rolling_mean']], train_features['value'])\n",
        "\n",
        "# Предсказания\n",
        "rf_preds = rf.predict(test_features[['lag1', 'rolling_mean']])"
      ],
      "metadata": {
        "id": "aqn9FeG9O0Vd"
      },
      "execution_count": null,
      "outputs": []
    },
    {
      "cell_type": "markdown",
      "source": [
        "Визуализируем результаты работы модели, произведём замеры качества модели"
      ],
      "metadata": {
        "id": "684aonFjRyck"
      }
    },
    {
      "cell_type": "code",
      "source": [
        "# Визуализация результатов Random Forest\n",
        "plt.figure(figsize=(12, 6))\n",
        "plt.plot(train_features.index, train_features['value'], label='Train')\n",
        "plt.plot(test_features.index, test_features['value'], label='Test')\n",
        "plt.plot(test_features.index, rf_preds, label='Random Forest Predictions', linestyle='--')\n",
        "plt.legend()\n",
        "plt.show()\n",
        "\n",
        "# Замеры качества Random Forest\n",
        "smape_rf = smape(test_features['value'], rf_preds)\n",
        "print(f'SMAPE Random Forest: {smape_rf}')"
      ],
      "metadata": {
        "colab": {
          "base_uri": "https://localhost:8080/",
          "height": 540
        },
        "id": "cK9eGTbAO2sN",
        "outputId": "a63d2276-aec1-4d19-f9ec-13b468d0cefa"
      },
      "execution_count": null,
      "outputs": [
        {
          "output_type": "display_data",
          "data": {
            "text/plain": [
              "<Figure size 1200x600 with 1 Axes>"
            ],
            "image/png": "[encoded data removed]"
          },
          "metadata": {}
        },
        {
          "output_type": "stream",
          "name": "stdout",
          "text": [
            "SMAPE Random Forest: 0.4171318509343482\n"
          ]
        }
      ]
    },
    {
      "cell_type": "markdown",
      "source": [
        "# Нейросетевая модель"
      ],
      "metadata": {
        "id": "Z33jkxFER7pe"
      }
    },
    {
      "cell_type": "code",
      "source": [
        "# !pip install etna[all] -U"
      ],
      "metadata": {
        "id": "oQ6FFGULKI07"
      },
      "execution_count": null,
      "outputs": []
    },
    {
      "cell_type": "markdown",
      "source": [
        "Обучим на выбранном временном ряду модель RNNModel из библиотеки ETNA"
      ],
      "metadata": {
        "id": "whRGQLoZR-xf"
      }
    },
    {
      "cell_type": "code",
      "source": [
        "df = load_data('machine_temperature_system_failure.csv')\n",
        "df = df.rename(columns={'timestamp': 'timestamp', 'value': 'target'})\n",
        "df['segment'] = 'main'\n",
        "df = df.drop_duplicates(subset='timestamp', keep='first')\n",
        "df = TSDataset.to_dataset(df)\n",
        "ts = TSDataset(df, freq='5T')\n",
        "ts.head()"
      ],
      "metadata": {
        "id": "T8MJ0Zf10FHu",
        "colab": {
          "base_uri": "https://localhost:8080/",
          "height": 269
        },
        "outputId": "24db65b5-5ea0-4cf3-9236-06f289d8b20b"
      },
      "execution_count": null,
      "outputs": [
        {
          "output_type": "execute_result",
          "data": {
            "text/plain": [
              "segment                   main\n",
              "feature                 target\n",
              "timestamp                     \n",
              "2013-12-02 21:15:00  73.967322\n",
              "2013-12-02 21:20:00  74.935882\n",
              "2013-12-02 21:25:00  76.124162\n",
              "2013-12-02 21:30:00  78.140707\n",
              "2013-12-02 21:35:00  79.329836"
            ],
            "text/html": [
              "\n",
              "  <div id=\"df-3cf859b5-de2a-4034-8ebc-477c4c3450f9\" class=\"colab-df-container\">\n",
              "    <div>\n",
              "<style scoped>\n",
              "    .dataframe tbody tr th:only-of-type {\n",
              "        vertical-align: middle;\n",
              "    }\n",
              "\n",
              "    .dataframe tbody tr th {\n",
              "        vertical-align: top;\n",
              "    }\n",
              "\n",
              "    .dataframe thead tr th {\n",
              "        text-align: left;\n",
              "    }\n",
              "\n",
              "    .dataframe thead tr:last-of-type th {\n",
              "        text-align: right;\n",
              "    }\n",
              "</style>\n",
              "<table border=\"1\" class=\"dataframe\">\n",
              "  <thead>\n",
              "    <tr>\n",
              "      <th>segment</th>\n",
              "      <th>main</th>\n",
              "    </tr>\n",
              "    <tr>\n",
              "      <th>feature</th>\n",
              "      <th>target</th>\n",
              "    </tr>\n",
              "    <tr>\n",
              "      <th>timestamp</th>\n",
              "      <th></th>\n",
              "    </tr>\n",
              "  </thead>\n",
              "  <tbody>\n",
              "    <tr>\n",
              "      <th>2013-12-02 21:15:00</th>\n",
              "      <td>73.967322</td>\n",
              "    </tr>\n",
              "    <tr>\n",
              "      <th>2013-12-02 21:20:00</th>\n",
              "      <td>74.935882</td>\n",
              "    </tr>\n",
              "    <tr>\n",
              "      <th>2013-12-02 21:25:00</th>\n",
              "      <td>76.124162</td>\n",
              "    </tr>\n",
              "    <tr>\n",
              "      <th>2013-12-02 21:30:00</th>\n",
              "      <td>78.140707</td>\n",
              "    </tr>\n",
              "    <tr>\n",
              "      <th>2013-12-02 21:35:00</th>\n",
              "      <td>79.329836</td>\n",
              "    </tr>\n",
              "  </tbody>\n",
              "</table>\n",
              "</div>\n",
              "    <div class=\"colab-df-buttons\">\n",
              "\n",
              "  <div class=\"colab-df-container\">\n",
              "    <button class=\"colab-df-convert\" onclick=\"convertToInteractive('df-3cf859b5-de2a-4034-8ebc-477c4c3450f9')\"\n",
              "            title=\"Convert this dataframe to an interactive table.\"\n",
              "            style=\"display:none;\">\n",
              "\n",
              "  <svg xmlns=\"http://www.w3.org/2000/svg\" height=\"24px\" viewBox=\"0 -960 960 960\">\n",
              "    <path d=\"M120-120v-720h720v720H120Zm60-500h600v-160H180v160Zm220 220h160v-160H400v160Zm0 220h160v-160H400v160ZM180-400h160v-160H180v160Zm440 0h160v-160H620v160ZM180-180h160v-160H180v160Zm440 0h160v-160H620v160Z\"/>\n",
              "  </svg>\n",
              "    </button>\n",
              "\n",
              "  <style>\n",
              "    .colab-df-container {\n",
              "      display:flex;\n",
              "      gap: 12px;\n",
              "    }\n",
              "\n",
              "    .colab-df-convert {\n",
              "      background-color: #E8F0FE;\n",
              "      border: none;\n",
              "      border-radius: 50%;\n",
              "      cursor: pointer;\n",
              "      display: none;\n",
              "      fill: #1967D2;\n",
              "      height: 32px;\n",
              "      padding: 0 0 0 0;\n",
              "      width: 32px;\n",
              "    }\n",
              "\n",
              "    .colab-df-convert:hover {\n",
              "      background-color: #E2EBFA;\n",
              "      box-shadow: 0px 1px 2px rgba(60, 64, 67, 0.3), 0px 1px 3px 1px rgba(60, 64, 67, 0.15);\n",
              "      fill: #174EA6;\n",
              "    }\n",
              "\n",
              "    .colab-df-buttons div {\n",
              "      margin-bottom: 4px;\n",
              "    }\n",
              "\n",
              "    [theme=dark] .colab-df-convert {\n",
              "      background-color: #3B4455;\n",
              "      fill: #D2E3FC;\n",
              "    }\n",
              "\n",
              "    [theme=dark] .colab-df-convert:hover {\n",
              "      background-color: #434B5C;\n",
              "      box-shadow: 0px 1px 3px 1px rgba(0, 0, 0, 0.15);\n",
              "      filter: drop-shadow(0px 1px 2px rgba(0, 0, 0, 0.3));\n",
              "      fill: #FFFFFF;\n",
              "    }\n",
              "  </style>\n",
              "\n",
              "    <script>\n",
              "      const buttonEl =\n",
              "        document.querySelector('#df-3cf859b5-de2a-4034-8ebc-477c4c3450f9 button.colab-df-convert');\n",
              "      buttonEl.style.display =\n",
              "        google.colab.kernel.accessAllowed ? 'block' : 'none';\n",
              "\n",
              "      async function convertToInteractive(key) {\n",
              "        const element = document.querySelector('#df-3cf859b5-de2a-4034-8ebc-477c4c3450f9');\n",
              "        const dataTable =\n",
              "          await google.colab.kernel.invokeFunction('convertToInteractive',\n",
              "                                                    [key], {});\n",
              "        if (!dataTable) return;\n",
              "\n",
              "        const docLinkHtml = 'Like what you see? Visit the ' +\n",
              "          '<a target=\"_blank\" href=https://colab.research.google.com/notebooks/data_table.ipynb>data table notebook</a>'\n",
              "          + ' to learn more about interactive tables.';\n",
              "        element.innerHTML = '';\n",
              "        dataTable['output_type'] = 'display_data';\n",
              "        await google.colab.output.renderOutput(dataTable, element);\n",
              "        const docLink = document.createElement('div');\n",
              "        docLink.innerHTML = docLinkHtml;\n",
              "        element.appendChild(docLink);\n",
              "      }\n",
              "    </script>\n",
              "  </div>\n",
              "\n",
              "\n",
              "<div id=\"df-22c573a2-227c-442b-b3a6-f42853ae79fd\">\n",
              "  <button class=\"colab-df-quickchart\" onclick=\"quickchart('df-22c573a2-227c-442b-b3a6-f42853ae79fd')\"\n",
              "            title=\"Suggest charts\"\n",
              "            style=\"display:none;\">\n",
              "\n",
              "<svg xmlns=\"http://www.w3.org/2000/svg\" height=\"24px\"viewBox=\"0 0 24 24\"\n",
              "     width=\"24px\">\n",
              "    <g>\n",
              "        <path d=\"M19 3H5c-1.1 0-2 .9-2 2v14c0 1.1.9 2 2 2h14c1.1 0 2-.9 2-2V5c0-1.1-.9-2-2-2zM9 17H7v-7h2v7zm4 0h-2V7h2v10zm4 0h-2v-4h2v4z\"/>\n",
              "    </g>\n",
              "</svg>\n",
              "  </button>\n",
              "\n",
              "<style>\n",
              "  .colab-df-quickchart {\n",
              "      --bg-color: #E8F0FE;\n",
              "      --fill-color: #1967D2;\n",
              "      --hover-bg-color: #E2EBFA;\n",
              "      --hover-fill-color: #174EA6;\n",
              "      --disabled-fill-color: #AAA;\n",
              "      --disabled-bg-color: #DDD;\n",
              "  }\n",
              "\n",
              "  [theme=dark] .colab-df-quickchart {\n",
              "      --bg-color: #3B4455;\n",
              "      --fill-color: #D2E3FC;\n",
              "      --hover-bg-color: #434B5C;\n",
              "      --hover-fill-color: #FFFFFF;\n",
              "      --disabled-bg-color: #3B4455;\n",
              "      --disabled-fill-color: #666;\n",
              "  }\n",
              "\n",
              "  .colab-df-quickchart {\n",
              "    background-color: var(--bg-color);\n",
              "    border: none;\n",
              "    border-radius: 50%;\n",
              "    cursor: pointer;\n",
              "    display: none;\n",
              "    fill: var(--fill-color);\n",
              "    height: 32px;\n",
              "    padding: 0;\n",
              "    width: 32px;\n",
              "  }\n",
              "\n",
              "  .colab-df-quickchart:hover {\n",
              "    background-color: var(--hover-bg-color);\n",
              "    box-shadow: 0 1px 2px rgba(60, 64, 67, 0.3), 0 1px 3px 1px rgba(60, 64, 67, 0.15);\n",
              "    fill: var(--button-hover-fill-color);\n",
              "  }\n",
              "\n",
              "  .colab-df-quickchart-complete:disabled,\n",
              "  .colab-df-quickchart-complete:disabled:hover {\n",
              "    background-color: var(--disabled-bg-color);\n",
              "    fill: var(--disabled-fill-color);\n",
              "    box-shadow: none;\n",
              "  }\n",
              "\n",
              "  .colab-df-spinner {\n",
              "    border: 2px solid var(--fill-color);\n",
              "    border-color: transparent;\n",
              "    border-bottom-color: var(--fill-color);\n",
              "    animation:\n",
              "      spin 1s steps(1) infinite;\n",
              "  }\n",
              "\n",
              "  @keyframes spin {\n",
              "    0% {\n",
              "      border-color: transparent;\n",
              "      border-bottom-color: var(--fill-color);\n",
              "      border-left-color: var(--fill-color);\n",
              "    }\n",
              "    20% {\n",
              "      border-color: transparent;\n",
              "      border-left-color: var(--fill-color);\n",
              "      border-top-color: var(--fill-color);\n",
              "    }\n",
              "    30% {\n",
              "      border-color: transparent;\n",
              "      border-left-color: var(--fill-color);\n",
              "      border-top-color: var(--fill-color);\n",
              "      border-right-color: var(--fill-color);\n",
              "    }\n",
              "    40% {\n",
              "      border-color: transparent;\n",
              "      border-right-color: var(--fill-color);\n",
              "      border-top-color: var(--fill-color);\n",
              "    }\n",
              "    60% {\n",
              "      border-color: transparent;\n",
              "      border-right-color: var(--fill-color);\n",
              "    }\n",
              "    80% {\n",
              "      border-color: transparent;\n",
              "      border-right-color: var(--fill-color);\n",
              "      border-bottom-color: var(--fill-color);\n",
              "    }\n",
              "    90% {\n",
              "      border-color: transparent;\n",
              "      border-bottom-color: var(--fill-color);\n",
              "    }\n",
              "  }\n",
              "</style>\n",
              "\n",
              "  <script>\n",
              "    async function quickchart(key) {\n",
              "      const quickchartButtonEl =\n",
              "        document.querySelector('#' + key + ' button');\n",
              "      quickchartButtonEl.disabled = true;  // To prevent multiple clicks.\n",
              "      quickchartButtonEl.classList.add('colab-df-spinner');\n",
              "      try {\n",
              "        const charts = await google.colab.kernel.invokeFunction(\n",
              "            'suggestCharts', [key], {});\n",
              "      } catch (error) {\n",
              "        console.error('Error during call to suggestCharts:', error);\n",
              "      }\n",
              "      quickchartButtonEl.classList.remove('colab-df-spinner');\n",
              "      quickchartButtonEl.classList.add('colab-df-quickchart-complete');\n",
              "    }\n",
              "    (() => {\n",
              "      let quickchartButtonEl =\n",
              "        document.querySelector('#df-22c573a2-227c-442b-b3a6-f42853ae79fd button');\n",
              "      quickchartButtonEl.style.display =\n",
              "        google.colab.kernel.accessAllowed ? 'block' : 'none';\n",
              "    })();\n",
              "  </script>\n",
              "</div>\n",
              "    </div>\n",
              "  </div>\n"
            ],
            "application/vnd.google.colaboratory.intrinsic+json": {
              "type": "dataframe",
              "summary": "{\n  \"name\": \"ts\",\n  \"rows\": 5,\n  \"fields\": [\n    {\n      \"column\": [\n        \"timestamp\",\n        \"\"\n      ],\n      \"properties\": {\n        \"dtype\": \"date\",\n        \"min\": \"2013-12-02 21:15:00\",\n        \"max\": \"2013-12-02 21:35:00\",\n        \"num_unique_values\": 5,\n        \"samples\": [\n          \"2013-12-02 21:20:00\",\n          \"2013-12-02 21:35:00\",\n          \"2013-12-02 21:25:00\"\n        ],\n        \"semantic_type\": \"\",\n        \"description\": \"\"\n      }\n    },\n    {\n      \"column\": [\n        \"main\",\n        \"target\"\n      ],\n      \"properties\": {\n        \"dtype\": \"number\",\n        \"std\": 2.2193505189223592,\n        \"min\": 73.96732207,\n        \"max\": 79.32983574,\n        \"num_unique_values\": 5,\n        \"samples\": [\n          74.93588199999998,\n          79.32983574,\n          76.12416182\n        ],\n        \"semantic_type\": \"\",\n        \"description\": \"\"\n      }\n    }\n  ]\n}"
            }
          },
          "metadata": {},
          "execution_count": 22
        }
      ]
    },
    {
      "cell_type": "code",
      "source": [
        "HORIZON = 7\n",
        "model_rnn = RNNModel(\n",
        "    decoder_length=HORIZON,\n",
        "    encoder_length=2 * HORIZON,\n",
        "    input_size=11,\n",
        "    trainer_params=dict(max_epochs=4),\n",
        "    lr=1e-3,\n",
        ")\n",
        "\n",
        "num_lags = 10\n",
        "transform_lag = LagTransform(\n",
        "    in_column='target',\n",
        "    lags=[HORIZON + i for i in range(num_lags)],\n",
        "    out_column='target_lag'\n",
        ")\n",
        "\n",
        "pipeline_rnn = Pipeline(\n",
        "    model=model_rnn,\n",
        "    horizon=HORIZON,\n",
        "    transforms=[StandardScalerTransform(in_column=\"target\"), transform_lag],\n",
        ")\n",
        "metrics = [SMAPE(), MAPE(), MAE()]\n",
        "metrics_rnn, forecast_rnn, fold_info_rnn = pipeline_rnn.backtest(ts, metrics=metrics, n_folds=3, n_jobs=1)"
      ],
      "metadata": {
        "id": "ReBwTl_L1kME",
        "colab": {
          "base_uri": "https://localhost:8080/",
          "height": 1000,
          "referenced_widgets": [
            "12bcdea05af54baf83c2deab6961e532",
            "95b3dace43a54a77bfeb5f5b97966600",
            "3e8b52e953a14d618e9883bdaa217a00",
            "d2ed0e7b4696475db9a1e9b064e2b4db",
            "a35008edd010425da5a2b9d6b810743c",
            "67595364d01748f7908d1bb4d2900333",
            "75ba59c3500d449ea5d8f61211e5c9f0",
            "60811447cff049cfa1c4ed23076da356",
            "b6ec692261414bc2bcf05cd8bd2b0e64",
            "215b9ebc7c224c478f07c01da7020dda",
            "edf2926db96f413787c8b765766d22b7",
            "9504932cbe5c4dc6b22e3ef689a420c2",
            "20af49ad25e94ff4ba47156bc3d9aa3e",
            "8e66338f706f44159b78968be0b4772f",
            "134456fd36fd47658b349060b4c1c4d7",
            "032604ccdd5b477b94c5ff47b7c86d8d",
            "bca4d7d2ffec46ee8489e9ad154cdaca",
            "0aaf207950b544f381be948b8d8bf27a",
            "8bbb8ef6f46345f99f0c03844b9a6437",
            "5b2b8883394b4ceba4a13a1711b05c09",
            "3f7a81db0511428ba3f60da3179b2ed4",
            "e778e6cf52f94b238f76596d15ce770a",
            "e66d913dba6e4347a664a33e613f4cc9",
            "d90cc41358dc4f97bfbf483c18feb6a3",
            "d4ac656767da4ca9b5708bdbc4f497af",
            "f02ee9d15bd344a780fa4e150a43c120",
            "4b73f55afd25436f9777e6fad80333fa",
            "b75ce1b47f8a47d89e4b1adf0a2b77e4",
            "1f7fa4436d95487f94fd1438c818cde2",
            "15d70855b8a74a298fa123f38ef10022",
            "417ab619d5664ec2a4da59878c654883",
            "17a94b589deb401dbea9ed8049e2ced7",
            "853682555a1f4abf9d1a0c81d469846d"
          ]
        },
        "outputId": "a246e7cf-d4a9-465a-ea92-4895faba58fe"
      },
      "execution_count": null,
      "outputs": [
        {
          "output_type": "stream",
          "name": "stderr",
          "text": [
            "/usr/local/lib/python3.10/dist-packages/pytorch_lightning/utilities/parsing.py:269: UserWarning: Attribute 'loss' is an instance of `nn.Module` and is already saved during checkpointing. It is recommended to ignore them using `self.save_hyperparameters(ignore=['loss'])`.\n",
            "  rank_zero_warn(\n",
            "INFO:pytorch_lightning.utilities.rank_zero:GPU available: False, used: False\n",
            "INFO:pytorch_lightning.utilities.rank_zero:TPU available: False, using: 0 TPU cores\n",
            "INFO:pytorch_lightning.utilities.rank_zero:IPU available: False, using: 0 IPUs\n",
            "INFO:pytorch_lightning.utilities.rank_zero:HPU available: False, using: 0 HPUs\n",
            "/usr/local/lib/python3.10/dist-packages/pytorch_lightning/trainer/configuration_validator.py:108: PossibleUserWarning: You defined a `validation_step` but have no `val_dataloader`. Skipping val loop.\n",
            "  rank_zero_warn(\n",
            "INFO:pytorch_lightning.callbacks.model_summary:\n",
            "  | Name       | Type    | Params\n",
            "---------------------------------------\n",
            "0 | loss       | MSELoss | 0     \n",
            "1 | rnn        | LSTM    | 4.0 K \n",
            "2 | projection | Linear  | 17    \n",
            "---------------------------------------\n",
            "4.0 K     Trainable params\n",
            "0         Non-trainable params\n",
            "4.0 K     Total params\n",
            "0.016     Total estimated model params size (MB)\n"
          ]
        },
        {
          "output_type": "display_data",
          "data": {
            "text/plain": [
              "Training: 0it [00:00, ?it/s]"
            ],
            "application/vnd.jupyter.widget-view+json": {
              "version_major": 2,
              "version_minor": 0,
              "model_id": "12bcdea05af54baf83c2deab6961e532"
            }
          },
          "metadata": {}
        },
        {
          "output_type": "stream",
          "name": "stderr",
          "text": [
            "INFO:pytorch_lightning.utilities.rank_zero:`Trainer.fit` stopped: `max_epochs=4` reached.\n",
            "[Parallel(n_jobs=1)]: Done   1 tasks      | elapsed:  2.9min\n",
            "INFO:pytorch_lightning.utilities.rank_zero:GPU available: False, used: False\n",
            "INFO:pytorch_lightning.utilities.rank_zero:TPU available: False, using: 0 TPU cores\n",
            "INFO:pytorch_lightning.utilities.rank_zero:IPU available: False, using: 0 IPUs\n",
            "INFO:pytorch_lightning.utilities.rank_zero:HPU available: False, using: 0 HPUs\n",
            "/usr/local/lib/python3.10/dist-packages/pytorch_lightning/trainer/configuration_validator.py:108: PossibleUserWarning: You defined a `validation_step` but have no `val_dataloader`. Skipping val loop.\n",
            "  rank_zero_warn(\n",
            "/usr/local/lib/python3.10/dist-packages/pytorch_lightning/callbacks/model_checkpoint.py:613: UserWarning: Checkpoint directory /content/checkpoints exists and is not empty.\n",
            "  rank_zero_warn(f\"Checkpoint directory {dirpath} exists and is not empty.\")\n",
            "INFO:pytorch_lightning.callbacks.model_summary:\n",
            "  | Name       | Type    | Params\n",
            "---------------------------------------\n",
            "0 | loss       | MSELoss | 0     \n",
            "1 | rnn        | LSTM    | 4.0 K \n",
            "2 | projection | Linear  | 17    \n",
            "---------------------------------------\n",
            "4.0 K     Trainable params\n",
            "0         Non-trainable params\n",
            "4.0 K     Total params\n",
            "0.016     Total estimated model params size (MB)\n"
          ]
        },
        {
          "output_type": "display_data",
          "data": {
            "text/plain": [
              "Training: 0it [00:00, ?it/s]"
            ],
            "application/vnd.jupyter.widget-view+json": {
              "version_major": 2,
              "version_minor": 0,
              "model_id": "9504932cbe5c4dc6b22e3ef689a420c2"
            }
          },
          "metadata": {}
        },
        {
          "output_type": "stream",
          "name": "stderr",
          "text": [
            "INFO:pytorch_lightning.utilities.rank_zero:`Trainer.fit` stopped: `max_epochs=4` reached.\n",
            "[Parallel(n_jobs=1)]: Done   2 tasks      | elapsed:  5.7min\n",
            "INFO:pytorch_lightning.utilities.rank_zero:GPU available: False, used: False\n",
            "INFO:pytorch_lightning.utilities.rank_zero:TPU available: False, using: 0 TPU cores\n",
            "INFO:pytorch_lightning.utilities.rank_zero:IPU available: False, using: 0 IPUs\n",
            "INFO:pytorch_lightning.utilities.rank_zero:HPU available: False, using: 0 HPUs\n",
            "/usr/local/lib/python3.10/dist-packages/pytorch_lightning/trainer/configuration_validator.py:108: PossibleUserWarning: You defined a `validation_step` but have no `val_dataloader`. Skipping val loop.\n",
            "  rank_zero_warn(\n",
            "/usr/local/lib/python3.10/dist-packages/pytorch_lightning/callbacks/model_checkpoint.py:613: UserWarning: Checkpoint directory /content/checkpoints exists and is not empty.\n",
            "  rank_zero_warn(f\"Checkpoint directory {dirpath} exists and is not empty.\")\n",
            "INFO:pytorch_lightning.callbacks.model_summary:\n",
            "  | Name       | Type    | Params\n",
            "---------------------------------------\n",
            "0 | loss       | MSELoss | 0     \n",
            "1 | rnn        | LSTM    | 4.0 K \n",
            "2 | projection | Linear  | 17    \n",
            "---------------------------------------\n",
            "4.0 K     Trainable params\n",
            "0         Non-trainable params\n",
            "4.0 K     Total params\n",
            "0.016     Total estimated model params size (MB)\n"
          ]
        },
        {
          "output_type": "display_data",
          "data": {
            "text/plain": [
              "Training: 0it [00:00, ?it/s]"
            ],
            "application/vnd.jupyter.widget-view+json": {
              "version_major": 2,
              "version_minor": 0,
              "model_id": "e66d913dba6e4347a664a33e613f4cc9"
            }
          },
          "metadata": {}
        },
        {
          "output_type": "stream",
          "name": "stderr",
          "text": [
            "INFO:pytorch_lightning.utilities.rank_zero:`Trainer.fit` stopped: `max_epochs=4` reached.\n",
            "[Parallel(n_jobs=1)]: Done   3 tasks      | elapsed:  8.6min\n",
            "[Parallel(n_jobs=1)]: Done   3 tasks      | elapsed:  8.6min\n",
            "[Parallel(n_jobs=1)]: Done   1 tasks      | elapsed:    0.2s\n",
            "[Parallel(n_jobs=1)]: Done   2 tasks      | elapsed:    0.4s\n",
            "[Parallel(n_jobs=1)]: Done   3 tasks      | elapsed:    0.6s\n",
            "[Parallel(n_jobs=1)]: Done   3 tasks      | elapsed:    0.6s\n",
            "[Parallel(n_jobs=1)]: Done   1 tasks      | elapsed:    0.1s\n",
            "[Parallel(n_jobs=1)]: Done   2 tasks      | elapsed:    0.8s\n",
            "[Parallel(n_jobs=1)]: Done   3 tasks      | elapsed:    0.9s\n",
            "[Parallel(n_jobs=1)]: Done   3 tasks      | elapsed:    0.9s\n"
          ]
        }
      ]
    },
    {
      "cell_type": "markdown",
      "source": [
        "Визуализируем модель и произведём замер качества"
      ],
      "metadata": {
        "id": "BDPJ52KJSkFZ"
      }
    },
    {
      "cell_type": "code",
      "source": [
        "smape_rnn = metrics_rnn[\"SMAPE\"].mean()\n",
        "print(f\"Усредненное значение SMAPE для LSTM: {smape_rnn:.3f}\")\n",
        "plot_backtest(forecast_rnn, ts, history_len=20)"
      ],
      "metadata": {
        "id": "uLBGBeuH5b7I",
        "colab": {
          "base_uri": "https://localhost:8080/",
          "height": 546
        },
        "outputId": "d14f3f67-eca9-4b94-fcb4-322bdf455449"
      },
      "execution_count": null,
      "outputs": [
        {
          "output_type": "stream",
          "name": "stdout",
          "text": [
            "Усредненное значение SMAPE для LSTM: 0.808\n"
          ]
        },
        {
          "output_type": "display_data",
          "data": {
            "text/plain": [
              "<Figure size 1000x500 with 1 Axes>"
            ],
            "image/png": "[encoded data removed]"
          },
          "metadata": {}
        }
      ]
    },
    {
      "cell_type": "markdown",
      "source": [
        "Обучим на выбранном временном ряду модель DeepAR с Feaure-Engineering из библиотеки ETNA"
      ],
      "metadata": {
        "id": "CRzMuIZZSsyB"
      }
    },
    {
      "cell_type": "code",
      "source": [
        "transform_date = DateFlagsTransform(\n",
        "    day_number_in_week=True,\n",
        "    day_number_in_month=False,\n",
        "    out_column='dateflag'\n",
        ")\n",
        "\n",
        "num_lags = 10\n",
        "transform_lag = LagTransform(\n",
        "    in_column='target',\n",
        "    lags=[HORIZON + i for i in range(num_lags)],\n",
        "    out_column='target_lag'\n",
        ")\n",
        "lag_columns = [f'target_lag_{HORIZON+i}' for i in range(num_lags)]\n",
        "\n",
        "dataset_builder_deepar = PytorchForecastingDatasetBuilder(\n",
        "    max_encoder_length=HORIZON,\n",
        "    max_prediction_length=HORIZON,\n",
        "    time_varying_known_reals=['time_idx'] + lag_columns,\n",
        "    time_varying_unknown_reals=['target'],\n",
        "    time_varying_known_categoricals=['dateflag_day_number_in_week'],\n",
        "    target_normalizer=GroupNormalizer(groups=['segment']),\n",
        ")\n",
        "\n",
        "model_deepar = DeepARModel(\n",
        "    dataset_builder=dataset_builder_deepar,\n",
        "    trainer_params=dict(max_epochs=4, gpus=0, gradient_clip_val=0.1),\n",
        "    lr=0.01,\n",
        "    train_batch_size=64\n",
        ")\n",
        "\n",
        "pipeline_deepar = Pipeline(\n",
        "    model=model_deepar,\n",
        "    horizon=HORIZON,\n",
        "    transforms=[transform_lag, transform_date]\n",
        ")\n",
        "\n",
        "metrics_deepar, forecast_deepar, _ = pipeline_deepar.backtest(ts, metrics=metrics, n_folds=3, n_jobs=1)"
      ],
      "metadata": {
        "id": "VhCJFjMO6OyU",
        "colab": {
          "base_uri": "https://localhost:8080/",
          "height": 1000,
          "referenced_widgets": [
            "ad04ba4972144ffb8bd49de30f159cbf",
            "6f7b0b3c7b1d4af6a4a201628d27452d",
            "89727a568d5d41b28c482a90f7cd795d",
            "020f804b9b2a47c88e85ff42871c6243",
            "0e1b67a321044eb492e6540bf189c88f",
            "c92ba83f6f1c498fa20b3a47ec2fa732",
            "2efb261f570040df9697e6b860bc98bd",
            "2ef077fc16f44313a17ecc578d2c09fb",
            "b354ece6e2a24bdab53f8c0762d36940",
            "3784b2edcec74ce6b400f52d2f1865cf",
            "90af693a883b46b4ae81f6fda6477cd8",
            "f0a1e19998f7416685bc63b2622a7cd7",
            "3c63259fc0194f389bce2bbc810f7dd5",
            "b124b4ac79184c0c89cc5d02c0c0ce60",
            "761a27f34fbf43a68491ab3dc5439b9e",
            "7d0a8e7d3ce54de9a5415a2cb1429c5b",
            "031306b5e8b24675bec2a7edc220f92d",
            "c2ac7cc5540243b59e7531e754ceea3a",
            "2a8bcda22b3640879c73dcee2f637410",
            "b69c904b8cde4c4a8bbc0b9c03e4399d",
            "86cb4da4659d4bf9836ec9f15db3e059",
            "01d5596f593a4a4790b2050e75fa0234",
            "22902776b798466d804cdb44ccd487b6",
            "ec8ab5a88f5a4671a3a88e5539929660",
            "94582f074c5a4c8e9b755532421373b7",
            "b05cc5bc055c46f7b0cb2d109acf43eb",
            "bb5a781f04e649f78ea7419add0d18e2",
            "06e23ab8d7194917b53b86fd415269e0",
            "4b3f8ab3a87d4ed2850f74885885b469",
            "995edd9234514772873a6e94cd340f60",
            "dedfa4957fd14793a095166cd0a6744e",
            "9214699153df42d58d3e9d55916277c8",
            "a9203d18d2314657a789c7d278728658"
          ]
        },
        "outputId": "9947cacf-6b22-4649-c97d-b56ebeae914e"
      },
      "execution_count": null,
      "outputs": [
        {
          "output_type": "stream",
          "name": "stderr",
          "text": [
            "<ipython-input-25-57d4b340bffa>:24: DeprecationWarning: Call to deprecated class DeepARModel. (DeepARModel is deprecated. Use DeepARNativeModel instead.) -- Deprecated since version 3.0.\n",
            "  model_deepar = DeepARModel(\n",
            "/usr/local/lib/python3.10/dist-packages/pytorch_lightning/trainer/connectors/accelerator_connector.py:478: LightningDeprecationWarning: Setting `Trainer(gpus=0)` is deprecated in v1.7 and will be removed in v2.0. Please use `Trainer(accelerator='gpu', devices=0)` instead.\n",
            "  rank_zero_deprecation(\n",
            "INFO:pytorch_lightning.utilities.rank_zero:GPU available: False, used: False\n",
            "INFO:pytorch_lightning.utilities.rank_zero:TPU available: False, using: 0 TPU cores\n",
            "INFO:pytorch_lightning.utilities.rank_zero:IPU available: False, using: 0 IPUs\n",
            "INFO:pytorch_lightning.utilities.rank_zero:HPU available: False, using: 0 HPUs\n",
            "/usr/local/lib/python3.10/dist-packages/pytorch_lightning/utilities/parsing.py:269: UserWarning: Attribute 'loss' is an instance of `nn.Module` and is already saved during checkpointing. It is recommended to ignore them using `self.save_hyperparameters(ignore=['loss'])`.\n",
            "  rank_zero_warn(\n",
            "/usr/local/lib/python3.10/dist-packages/pytorch_lightning/utilities/parsing.py:269: UserWarning: Attribute 'logging_metrics' is an instance of `nn.Module` and is already saved during checkpointing. It is recommended to ignore them using `self.save_hyperparameters(ignore=['logging_metrics'])`.\n",
            "  rank_zero_warn(\n",
            "/usr/local/lib/python3.10/dist-packages/pytorch_lightning/trainer/configuration_validator.py:108: PossibleUserWarning: You defined a `validation_step` but have no `val_dataloader`. Skipping val loop.\n",
            "  rank_zero_warn(\n",
            "/usr/local/lib/python3.10/dist-packages/pytorch_lightning/callbacks/model_checkpoint.py:613: UserWarning: Checkpoint directory /content/checkpoints exists and is not empty.\n",
            "  rank_zero_warn(f\"Checkpoint directory {dirpath} exists and is not empty.\")\n",
            "INFO:pytorch_lightning.callbacks.model_summary:\n",
            "  | Name                   | Type                   | Params\n",
            "------------------------------------------------------------------\n",
            "0 | loss                   | NormalDistributionLoss | 0     \n",
            "1 | logging_metrics        | ModuleList             | 0     \n",
            "2 | embeddings             | MultiEmbedding         | 35    \n",
            "3 | rnn                    | LSTM                   | 2.2 K \n",
            "4 | distribution_projector | Linear                 | 22    \n",
            "------------------------------------------------------------------\n",
            "2.3 K     Trainable params\n",
            "0         Non-trainable params\n",
            "2.3 K     Total params\n",
            "0.009     Total estimated model params size (MB)\n"
          ]
        },
        {
          "output_type": "display_data",
          "data": {
            "text/plain": [
              "Training: 0it [00:00, ?it/s]"
            ],
            "application/vnd.jupyter.widget-view+json": {
              "version_major": 2,
              "version_minor": 0,
              "model_id": "ad04ba4972144ffb8bd49de30f159cbf"
            }
          },
          "metadata": {}
        },
        {
          "output_type": "stream",
          "name": "stderr",
          "text": [
            "/usr/local/lib/python3.10/dist-packages/pytorch_forecasting/data/timeseries.py:1657: UserWarning: Creating a tensor from a list of numpy.ndarrays is extremely slow. Please consider converting the list to a single numpy.ndarray with numpy.array() before converting to a tensor. (Triggered internally at ../torch/csrc/utils/tensor_new.cpp:230.)\n",
            "  target_scale = torch.tensor([batch[0][\"target_scale\"] for batch in batches], dtype=torch.float)\n",
            "/usr/local/lib/python3.10/dist-packages/pytorch_lightning/utilities/data.py:83: UserWarning: Trying to infer the `batch_size` from an ambiguous collection. The batch size we found is 64. To avoid any miscalculations, use `self.log(..., batch_size=batch_size)`.\n",
            "  warning_cache.warn(\n",
            "/usr/local/lib/python3.10/dist-packages/pytorch_lightning/loops/epoch/training_epoch_loop.py:445: RuntimeWarning: ReduceLROnPlateau conditioned on metric val_loss which is not available but strict is set to `False`. Skipping learning rate update.\n",
            "  rank_zero_warn(\n",
            "INFO:pytorch_lightning.utilities.rank_zero:`Trainer.fit` stopped: `max_epochs=4` reached.\n",
            "[Parallel(n_jobs=1)]: Done   1 tasks      | elapsed:  2.2min\n",
            "/usr/local/lib/python3.10/dist-packages/pytorch_lightning/trainer/connectors/accelerator_connector.py:478: LightningDeprecationWarning: Setting `Trainer(gpus=0)` is deprecated in v1.7 and will be removed in v2.0. Please use `Trainer(accelerator='gpu', devices=0)` instead.\n",
            "  rank_zero_deprecation(\n",
            "INFO:pytorch_lightning.utilities.rank_zero:GPU available: False, used: False\n",
            "INFO:pytorch_lightning.utilities.rank_zero:TPU available: False, using: 0 TPU cores\n",
            "INFO:pytorch_lightning.utilities.rank_zero:IPU available: False, using: 0 IPUs\n",
            "INFO:pytorch_lightning.utilities.rank_zero:HPU available: False, using: 0 HPUs\n",
            "/usr/local/lib/python3.10/dist-packages/pytorch_lightning/utilities/parsing.py:269: UserWarning: Attribute 'loss' is an instance of `nn.Module` and is already saved during checkpointing. It is recommended to ignore them using `self.save_hyperparameters(ignore=['loss'])`.\n",
            "  rank_zero_warn(\n",
            "/usr/local/lib/python3.10/dist-packages/pytorch_lightning/utilities/parsing.py:269: UserWarning: Attribute 'logging_metrics' is an instance of `nn.Module` and is already saved during checkpointing. It is recommended to ignore them using `self.save_hyperparameters(ignore=['logging_metrics'])`.\n",
            "  rank_zero_warn(\n",
            "/usr/local/lib/python3.10/dist-packages/pytorch_lightning/trainer/configuration_validator.py:108: PossibleUserWarning: You defined a `validation_step` but have no `val_dataloader`. Skipping val loop.\n",
            "  rank_zero_warn(\n",
            "/usr/local/lib/python3.10/dist-packages/pytorch_lightning/callbacks/model_checkpoint.py:613: UserWarning: Checkpoint directory /content/checkpoints exists and is not empty.\n",
            "  rank_zero_warn(f\"Checkpoint directory {dirpath} exists and is not empty.\")\n",
            "INFO:pytorch_lightning.callbacks.model_summary:\n",
            "  | Name                   | Type                   | Params\n",
            "------------------------------------------------------------------\n",
            "0 | loss                   | NormalDistributionLoss | 0     \n",
            "1 | logging_metrics        | ModuleList             | 0     \n",
            "2 | embeddings             | MultiEmbedding         | 35    \n",
            "3 | rnn                    | LSTM                   | 2.2 K \n",
            "4 | distribution_projector | Linear                 | 22    \n",
            "------------------------------------------------------------------\n",
            "2.3 K     Trainable params\n",
            "0         Non-trainable params\n",
            "2.3 K     Total params\n",
            "0.009     Total estimated model params size (MB)\n"
          ]
        },
        {
          "output_type": "display_data",
          "data": {
            "text/plain": [
              "Training: 0it [00:00, ?it/s]"
            ],
            "application/vnd.jupyter.widget-view+json": {
              "version_major": 2,
              "version_minor": 0,
              "model_id": "f0a1e19998f7416685bc63b2622a7cd7"
            }
          },
          "metadata": {}
        },
        {
          "output_type": "stream",
          "name": "stderr",
          "text": [
            "/usr/local/lib/python3.10/dist-packages/pytorch_lightning/loops/epoch/training_epoch_loop.py:445: RuntimeWarning: ReduceLROnPlateau conditioned on metric val_loss which is not available but strict is set to `False`. Skipping learning rate update.\n",
            "  rank_zero_warn(\n",
            "INFO:pytorch_lightning.utilities.rank_zero:`Trainer.fit` stopped: `max_epochs=4` reached.\n",
            "[Parallel(n_jobs=1)]: Done   2 tasks      | elapsed:  4.4min\n",
            "/usr/local/lib/python3.10/dist-packages/pytorch_lightning/trainer/connectors/accelerator_connector.py:478: LightningDeprecationWarning: Setting `Trainer(gpus=0)` is deprecated in v1.7 and will be removed in v2.0. Please use `Trainer(accelerator='gpu', devices=0)` instead.\n",
            "  rank_zero_deprecation(\n",
            "INFO:pytorch_lightning.utilities.rank_zero:GPU available: False, used: False\n",
            "INFO:pytorch_lightning.utilities.rank_zero:TPU available: False, using: 0 TPU cores\n",
            "INFO:pytorch_lightning.utilities.rank_zero:IPU available: False, using: 0 IPUs\n",
            "INFO:pytorch_lightning.utilities.rank_zero:HPU available: False, using: 0 HPUs\n",
            "/usr/local/lib/python3.10/dist-packages/pytorch_lightning/utilities/parsing.py:269: UserWarning: Attribute 'loss' is an instance of `nn.Module` and is already saved during checkpointing. It is recommended to ignore them using `self.save_hyperparameters(ignore=['loss'])`.\n",
            "  rank_zero_warn(\n",
            "/usr/local/lib/python3.10/dist-packages/pytorch_lightning/utilities/parsing.py:269: UserWarning: Attribute 'logging_metrics' is an instance of `nn.Module` and is already saved during checkpointing. It is recommended to ignore them using `self.save_hyperparameters(ignore=['logging_metrics'])`.\n",
            "  rank_zero_warn(\n",
            "/usr/local/lib/python3.10/dist-packages/pytorch_lightning/trainer/configuration_validator.py:108: PossibleUserWarning: You defined a `validation_step` but have no `val_dataloader`. Skipping val loop.\n",
            "  rank_zero_warn(\n",
            "/usr/local/lib/python3.10/dist-packages/pytorch_lightning/callbacks/model_checkpoint.py:613: UserWarning: Checkpoint directory /content/checkpoints exists and is not empty.\n",
            "  rank_zero_warn(f\"Checkpoint directory {dirpath} exists and is not empty.\")\n",
            "INFO:pytorch_lightning.callbacks.model_summary:\n",
            "  | Name                   | Type                   | Params\n",
            "------------------------------------------------------------------\n",
            "0 | loss                   | NormalDistributionLoss | 0     \n",
            "1 | logging_metrics        | ModuleList             | 0     \n",
            "2 | embeddings             | MultiEmbedding         | 35    \n",
            "3 | rnn                    | LSTM                   | 2.2 K \n",
            "4 | distribution_projector | Linear                 | 22    \n",
            "------------------------------------------------------------------\n",
            "2.3 K     Trainable params\n",
            "0         Non-trainable params\n",
            "2.3 K     Total params\n",
            "0.009     Total estimated model params size (MB)\n"
          ]
        },
        {
          "output_type": "display_data",
          "data": {
            "text/plain": [
              "Training: 0it [00:00, ?it/s]"
            ],
            "application/vnd.jupyter.widget-view+json": {
              "version_major": 2,
              "version_minor": 0,
              "model_id": "22902776b798466d804cdb44ccd487b6"
            }
          },
          "metadata": {}
        },
        {
          "output_type": "stream",
          "name": "stderr",
          "text": [
            "/usr/local/lib/python3.10/dist-packages/pytorch_lightning/loops/epoch/training_epoch_loop.py:445: RuntimeWarning: ReduceLROnPlateau conditioned on metric val_loss which is not available but strict is set to `False`. Skipping learning rate update.\n",
            "  rank_zero_warn(\n",
            "INFO:pytorch_lightning.utilities.rank_zero:`Trainer.fit` stopped: `max_epochs=4` reached.\n",
            "[Parallel(n_jobs=1)]: Done   3 tasks      | elapsed:  6.6min\n",
            "[Parallel(n_jobs=1)]: Done   3 tasks      | elapsed:  6.6min\n",
            "[Parallel(n_jobs=1)]: Done   1 tasks      | elapsed:    4.4s\n",
            "[Parallel(n_jobs=1)]: Done   2 tasks      | elapsed:   10.1s\n",
            "[Parallel(n_jobs=1)]: Done   3 tasks      | elapsed:   14.3s\n",
            "[Parallel(n_jobs=1)]: Done   3 tasks      | elapsed:   14.3s\n",
            "[Parallel(n_jobs=1)]: Done   1 tasks      | elapsed:    0.5s\n",
            "[Parallel(n_jobs=1)]: Done   2 tasks      | elapsed:    0.6s\n",
            "[Parallel(n_jobs=1)]: Done   3 tasks      | elapsed:    0.7s\n",
            "[Parallel(n_jobs=1)]: Done   3 tasks      | elapsed:    0.7s\n"
          ]
        }
      ]
    },
    {
      "cell_type": "markdown",
      "source": [
        "Визуализируем модель и произведём замер качества"
      ],
      "metadata": {
        "id": "w9kLJ7_kSw-R"
      }
    },
    {
      "cell_type": "code",
      "source": [
        "smape_deepar = metrics_deepar['SMAPE'].mean()\n",
        "print(f\"Усредненное значение SMAPE для DeepAR с FE: {smape_deepar:.3f}\")\n",
        "plot_backtest(forecast_deepar, ts, history_len=20)"
      ],
      "metadata": {
        "id": "SgrSDwfX7olt",
        "colab": {
          "base_uri": "https://localhost:8080/",
          "height": 546
        },
        "outputId": "0c288f8d-33af-45fd-dccf-ceb10e20bada"
      },
      "execution_count": null,
      "outputs": [
        {
          "output_type": "stream",
          "name": "stdout",
          "text": [
            "Усредненное значение SMAPE для DeepAR с FE: 1.066\n"
          ]
        },
        {
          "output_type": "display_data",
          "data": {
            "text/plain": [
              "<Figure size 1000x500 with 1 Axes>"
            ],
            "image/png": "[encoded data removed]"
          },
          "metadata": {}
        }
      ]
    },
    {
      "cell_type": "markdown",
      "source": [
        "## Соберём метрики по всем моделям и сравним"
      ],
      "metadata": {
        "id": "FBYlk7FOS3hs"
      }
    },
    {
      "cell_type": "code",
      "source": [
        "# Сбор метрик\n",
        "metrics = pd.DataFrame({\n",
        "    'Model': ['Baseline', 'ARIMA', 'Random Forest', 'RNN', 'DeepAR'],\n",
        "    'SMAPE': [smape_baseline, smape_arima, smape_rf, smape_rnn, smape_deepar]\n",
        "})\n",
        "\n",
        "print(metrics)"
      ],
      "metadata": {
        "id": "xnbQfmizWMVM",
        "colab": {
          "base_uri": "https://localhost:8080/"
        },
        "outputId": "487b3cf1-32ef-4702-b0d4-89a54ce9036f"
      },
      "execution_count": null,
      "outputs": [
        {
          "output_type": "stream",
          "name": "stdout",
          "text": [
            "           Model     SMAPE\n",
            "0       Baseline  8.002128\n",
            "1          ARIMA  9.048392\n",
            "2  Random Forest  0.417132\n",
            "3            RNN  0.808042\n",
            "4         DeepAR  1.065891\n"
          ]
        }
      ]
    },
    {
      "cell_type": "markdown",
      "source": [
        "## Выводы:\n",
        "\n",
        "1. Random Forest: Наименьшее значение SMAPE (0.417132) указывает на его высокую точность в прогнозировании. Эта модель явно является наиболее эффективной среди представленных.\n",
        "\n",
        "2. RNN: Значение SMAPE (0.808042) показывает, что RNN также демонстрирует неплохие результаты, но всё же уступает Random Forest.\n",
        "\n",
        "3. DeepAR: Значение SMAPE (1.065891) немного хуже, чем у RNN, но всё же значительно лучше Baseline и ARIMA.\n",
        "\n",
        "4. Baseline: Значение SMAPE (8.002128) служит отправной точкой для сравнения. Оно значительно выше, чем у Random Forest и других моделей, что указывает на необходимость улучшения.\n",
        "\n",
        "5. ARIMA: Наивысшее значение SMAPE (9.048392) говорит о том, что эта модель неэффективна для данной задачи и требует пересмотра подхода или настройки параметров.\n",
        "\n",
        "## Общий вывод:\n",
        "\n",
        "Random Forest является наиболее эффективной моделью для прогнозирования в данной задаче, обеспечивая наименьшую ошибку по метрике SMAPE. Модели RNN и DeepAR также показывают приемлемые результаты, но не достигают уровня Random Forest. ARIMA продемонстрировала наихудшие результаты и требует дальнейшего анализа или доработки для повышения точности прогнозов.;"
      ],
      "metadata": {
        "id": "I3eUaNvMvyMb"
      }
    }
  ]
}